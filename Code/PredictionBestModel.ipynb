{
 "cells": [
  {
   "cell_type": "code",
   "execution_count": null,
   "metadata": {},
   "outputs": [],
   "source": [
    "import matplotlib.pyplot as plt\n",
    "import pandas as pd\n",
    "from autogluon.timeseries import TimeSeriesPredictor, TimeSeriesDataFrame"
   ]
  },
  {
   "cell_type": "code",
   "execution_count": null,
   "metadata": {},
   "outputs": [],
   "source": [
    "predictor = TimeSeriesPredictor.load('best_predictor')"
   ]
  },
  {
   "cell_type": "code",
   "execution_count": null,
   "metadata": {},
   "outputs": [],
   "source": [
    "# Load data of closing transaction\n",
    "df = pd.read_csv('../CSV/df_TS_week.csv')\n",
    "df.head()"
   ]
  },
  {
   "cell_type": "code",
   "execution_count": null,
   "metadata": {},
   "outputs": [],
   "source": [
    "# Create a new df of the item_id equal to IT01 \n",
    "df_IT = df[df['item_id'] == 'IT01']"
   ]
  },
  {
   "cell_type": "code",
   "execution_count": null,
   "metadata": {},
   "outputs": [],
   "source": [
    "# Split data into training and testing set; train set based on timestamp from 2020-01-01 to 2022-04-30 and test set based on timestamp from 2022-05-01 to 2023-04-30\n",
    "train_data = df_IT[df_IT['timestamp'] <= '2022-04-30']\n",
    "test_data = df_IT[df_IT['timestamp'] > '2022-04-30']\n",
    "\n",
    "# Calculate the percentage of the training set and testing set\n",
    "print(train_data.shape[0] / df_IT.shape[0])\n",
    "print(test_data.shape[0] / df_IT.shape[0])"
   ]
  },
  {
   "cell_type": "code",
   "execution_count": null,
   "metadata": {},
   "outputs": [],
   "source": [
    "# Convert train_data to TimeSeriesDataFrame\n",
    "train_data = TimeSeriesDataFrame(\n",
    "    train_data, \n",
    "    id_column=\"item_id\",\n",
    "    timestamp_column=\"timestamp\"\n",
    "    \n",
    ")\n",
    "\n",
    "train_data.head()"
   ]
  },
  {
   "cell_type": "code",
   "execution_count": null,
   "metadata": {},
   "outputs": [],
   "source": [
    "# Convert test_data to TimeSeriesDataFrame\n",
    "test_data = TimeSeriesDataFrame(\n",
    "    test_data, \n",
    "    id_column=\"item_id\",\n",
    "    timestamp_column=\"timestamp\"\n",
    "    \n",
    ")\n",
    "\n",
    "test_data.head()"
   ]
  },
  {
   "cell_type": "code",
   "execution_count": null,
   "metadata": {},
   "outputs": [],
   "source": [
    "# Make prediction on training data\n",
    "predictions = predictor.predict(train_data, random_seed=42)\n",
    "predictions.head()"
   ]
  },
  {
   "cell_type": "code",
   "execution_count": null,
   "metadata": {},
   "outputs": [],
   "source": [
    "predictor.leaderboard(test_data)"
   ]
  },
  {
   "cell_type": "code",
   "execution_count": null,
   "metadata": {},
   "outputs": [],
   "source": [
    "plt.figure(figsize=(20, 5))\n",
    "plt.title(\"Comparison between values predicted by the model and actual values from test data\")\n",
    "\n",
    "item_id = \"IT01\"\n",
    "y_past = train_data.loc[item_id][\"target\"]\n",
    "y_pred = predictions.loc[item_id]\n",
    "y_test = test_data.loc[item_id][\"target\"][:12]\n",
    "\n",
    "plt.plot(y_past[-4:], label=\"Past time series values\")\n",
    "plt.plot(y_pred[\"mean\"], label=\"Mean forecast\")\n",
    "plt.plot(y_test, label=\"Future time series values\")\n",
    "\n",
    "plt.fill_between(\n",
    "    y_pred.index, y_pred[\"0.1\"], y_pred[\"0.9\"], color=\"red\", alpha=0.1, label=f\"10%-90% confidence interval\"\n",
    ")\n",
    "plt.legend()"
   ]
  },
  {
   "cell_type": "code",
   "execution_count": null,
   "metadata": {},
   "outputs": [],
   "source": [
    "# Sum all value of mean forecast of predictions where item_id is IT01\n",
    "predictions.loc['IT01']['mean'].sum()"
   ]
  },
  {
   "cell_type": "code",
   "execution_count": null,
   "metadata": {},
   "outputs": [],
   "source": [
    "# Sum all value of target of test_data \n",
    "test_data.loc['IT01']['target'][:12].sum()"
   ]
  },
  {
   "cell_type": "code",
   "execution_count": null,
   "metadata": {},
   "outputs": [],
   "source": [
    "# Calculate difference betweend each prediction and actual value of test_data\n",
    "diff = predictions.loc['IT01']['mean'] - test_data.loc['IT01']['target'][:12]\n",
    "diff"
   ]
  },
  {
   "cell_type": "code",
   "execution_count": null,
   "metadata": {},
   "outputs": [],
   "source": [
    "predictor.model_names()"
   ]
  }
 ],
 "metadata": {
  "kernelspec": {
   "display_name": "LAB1",
   "language": "python",
   "name": "python3"
  },
  "language_info": {
   "codemirror_mode": {
    "name": "ipython",
    "version": 3
   },
   "file_extension": ".py",
   "mimetype": "text/x-python",
   "name": "python",
   "nbconvert_exporter": "python",
   "pygments_lexer": "ipython3",
   "version": "3.9.7"
  }
 },
 "nbformat": 4,
 "nbformat_minor": 2
}
