{
  "cells": [
    {
      "cell_type": "code",
      "execution_count": null,
      "metadata": {
        "gather": {
          "logged": 1711131998129
        }
      },
      "outputs": [],
      "source": [
        "import matplotlib.pyplot as plt\n",
        "import pandas as pd\n",
        "from autogluon.timeseries import TimeSeriesPredictor, TimeSeriesDataFrame\n",
        "import numpy as np"
      ]
    },
    {
      "cell_type": "code",
      "execution_count": null,
      "metadata": {
        "gather": {
          "logged": 1711131998367
        }
      },
      "outputs": [],
      "source": [
        "# Load data of closing transaction\n",
        "df = pd.read_csv('../csv/df_TS_week.csv')\n",
        "df.head()"
      ]
    },
    {
      "cell_type": "code",
      "execution_count": null,
      "metadata": {
        "gather": {
          "logged": 1711131998494
        }
      },
      "outputs": [],
      "source": [
        "# Create a new df of the item_id equal to IT01 \n",
        "df = df[df['item_id'] == 'IT01']"
      ]
    },
    {
      "cell_type": "code",
      "execution_count": null,
      "metadata": {
        "gather": {
          "logged": 1711131998707
        }
      },
      "outputs": [],
      "source": [
        "# Remove idem_id column and target column\n",
        "df = df.drop(columns=['item_id', 'target'])\n",
        "df.head()"
      ]
    },
    {
      "cell_type": "code",
      "execution_count": null,
      "metadata": {
        "gather": {
          "logged": 1711131998861
        }
      },
      "outputs": [],
      "source": [
        "# Trasforma le colonne ACT in una singola colonna item_id e i valori corrispondenti in una colonna target\n",
        "df = df.melt(id_vars=[\"timestamp\"], var_name=\"item_id\", value_name=\"target\")\n",
        "\n",
        "# Ordina il DataFrame per il timestamp\n",
        "df.sort_values(by=\"timestamp\", inplace=True)\n",
        "\n",
        "# Visualizza il DataFrame trasformato\n",
        "df.head(10)"
      ]
    },
    {
      "cell_type": "code",
      "execution_count": null,
      "metadata": {
        "gather": {
          "logged": 1711131998994
        }
      },
      "outputs": [],
      "source": [
        "# Drop row where item_id is ACT17 and ACT44\n",
        "df = df[df['item_id'] != 'ACT04']\n",
        "df = df[df['item_id'] != 'ACT17']\n",
        "df = df[df['item_id'] != 'ACT44']"
      ]
    },
    {
      "cell_type": "code",
      "execution_count": null,
      "metadata": {
        "gather": {
          "logged": 1711131999118
        }
      },
      "outputs": [],
      "source": [
        "df.head(9)"
      ]
    },
    {
      "cell_type": "code",
      "execution_count": null,
      "metadata": {
        "gather": {
          "logged": 1711131999264
        }
      },
      "outputs": [],
      "source": [
        "prediction_length = 12  # Length of the prediction\n",
        "\n",
        "# Convert the 'timestamp' column to datetime format if it's not already in that format\n",
        "df['timestamp'] = pd.to_datetime(df['timestamp'])\n",
        "\n",
        "# Find the maximum date in the dataset\n",
        "max_date = df['timestamp'].max()\n",
        "\n",
        "# Calculate the start date of the test set\n",
        "test_start_date = max_date - pd.DateOffset(weeks=prediction_length+1)\n",
        "\n",
        "# Split the dataset into training and test sets\n",
        "train_data = df[df['timestamp'] <= test_start_date]\n",
        "test_data = df[df['timestamp'] > test_start_date]\n",
        "\n",
        "# Print the percentage dimensions of the training and test sets\n",
        "print(train_data.shape[0] / df.shape[0])\n",
        "print(test_data.shape[0] / df.shape[0])\n"
      ]
    },
    {
      "cell_type": "code",
      "execution_count": null,
      "metadata": {
        "gather": {
          "logged": 1711131999384
        }
      },
      "outputs": [],
      "source": [
        "# Convert train_data to TimeSeriesDataFrame\n",
        "train_data = TimeSeriesDataFrame(\n",
        "    train_data, \n",
        "    id_column=\"item_id\",\n",
        "    timestamp_column=\"timestamp\"\n",
        "    \n",
        ")\n",
        "\n",
        "train_data.head()"
      ]
    },
    {
      "cell_type": "code",
      "execution_count": null,
      "metadata": {
        "gather": {
          "logged": 1711131999519
        }
      },
      "outputs": [],
      "source": [
        "# Convert test_data to TimeSeriesDataFrame\n",
        "test_data = TimeSeriesDataFrame(\n",
        "    test_data, \n",
        "    id_column=\"item_id\",\n",
        "    timestamp_column=\"timestamp\"\n",
        "    \n",
        ")\n",
        "\n",
        "test_data.head()"
      ]
    },
    {
      "cell_type": "code",
      "execution_count": null,
      "metadata": {
        "gather": {
          "logged": 1711131999656
        }
      },
      "outputs": [],
      "source": [
        "# Build predictor\n",
        "predictor = TimeSeriesPredictor(\n",
        "    prediction_length=12,\n",
        "    freq='W-MON',\n",
        "    target='target',\n",
        "    path='TFT-IT_ACT',\n",
        "    eval_metric='MASE'\n",
        ")"
      ]
    },
    {
      "cell_type": "code",
      "execution_count": null,
      "metadata": {
        "gather": {
          "logged": 1711144031015
        },
        "jupyter": {
          "outputs_hidden": false,
          "source_hidden": false
        },
        "nteract": {
          "transient": {
            "deleting": false
          }
        }
      },
      "outputs": [],
      "source": [
        "from autogluon.common import space\n",
        "\n",
        "predictor.fit(\n",
        "    train_data,\n",
        "    hyperparameters = {\n",
        "        \"TemporalFusionTransformer\": { \n",
        "           \"hidden_dim\": space.Categorical(32, 64, 128),  \n",
        "           \"variable_dim\": space.Categorical(32, 64, 128),\n",
        "           \"num_heads\": space.Categorical(1,2,4),\n",
        "           \"dropout_rate\": space.Real(0.1, 0.3),\n",
        "           \"max_epochs\": space.Categorical(50, 100, 150),\n",
        "           \"batch_size\": space.Categorical(64, 128, 156),\n",
        "           \"lr\": space.Categorical(0.1, 0.01, 0.001),\n",
        "           \"early_stopping_patience\" : 20\n",
        "        },\n",
        "    },\n",
        "    hyperparameter_tune_kwargs=\"auto\",\n",
        "    refit_full=True,\n",
        "    num_val_windows=3,\n",
        "    random_seed=42,\n",
        "    enable_ensemble = False\n",
        ")"
      ]
    },
    {
      "cell_type": "code",
      "execution_count": null,
      "metadata": {
        "gather": {
          "logged": 1711144031917
        }
      },
      "outputs": [],
      "source": [
        "# Make prediction on training data\n",
        "predictions = predictor.predict(train_data, random_seed=42)\n",
        "predictions.head()"
      ]
    },
    {
      "cell_type": "code",
      "execution_count": null,
      "metadata": {
        "gather": {
          "logged": 1711144035825
        }
      },
      "outputs": [],
      "source": [
        "predictor.leaderboard(test_data)"
      ]
    },
    {
      "cell_type": "code",
      "execution_count": null,
      "metadata": {
        "gather": {
          "logged": 1711144236877
        }
      },
      "outputs": [],
      "source": [
        "plt.figure(figsize=(20, 5))\n",
        "plt.title(\"Comparison between values predicted by the model and actual values from test data\", pad=20, fontsize=15)\n",
        "\n",
        "item_id = \"ACT34\"\n",
        "y_past = train_data.loc[item_id][\"target\"]\n",
        "y_pred = predictions.loc[item_id]\n",
        "y_test = test_data.loc[item_id][\"target\"][:12]\n",
        "\n",
        "# Get the dates for each observation\n",
        "all_dates = list(y_past.index[-8:]) + list(y_test.index)\n",
        "all_ticks = range(len(all_dates))\n",
        "\n",
        "# Set the x-axis range for past and future\n",
        "past_ticks = range(8)\n",
        "future_ticks = range(8, len(all_dates))\n",
        "\n",
        "plt.plot(past_ticks, y_past[-8:], label=\"Past time series values\", marker='o', linestyle='-')\n",
        "plt.plot(future_ticks, y_pred[\"mean\"], label=\"Mean forecast\", marker='o', linestyle='-')\n",
        "plt.plot(future_ticks, y_test, label=\"Future time series values\", marker='o', linestyle='-')\n",
        "\n",
        "\n",
        "# Set x-axis labels with dates without time\n",
        "date_labels = [date.strftime(\"%Y-%m-%d\") for date in all_dates]\n",
        "plt.xticks(all_ticks, date_labels, rotation=45)\n",
        "\n",
        "# Add label for x-axis and y-axis\n",
        "plt.xlabel(\"Date\", fontsize=15, labelpad=15)\n",
        "plt.ylabel(\"Number of transactions\", fontsize=15, labelpad=15)\n",
        "\n",
        "plt.legend()\n",
        "plt.show()"
      ]
    }
  ],
  "metadata": {
    "kernel_info": {
      "name": "python310-sdkv2"
    },
    "kernelspec": {
      "display_name": "LAB1",
      "language": "python",
      "name": "python3"
    },
    "language_info": {
      "codemirror_mode": {
        "name": "ipython",
        "version": 3
      },
      "file_extension": ".py",
      "mimetype": "text/x-python",
      "name": "python",
      "nbconvert_exporter": "python",
      "pygments_lexer": "ipython3",
      "version": "3.9.7"
    },
    "microsoft": {
      "host": {
        "AzureML": {
          "notebookHasBeenCompleted": true
        }
      },
      "ms_spell_check": {
        "ms_spell_check_language": "en"
      }
    },
    "nteract": {
      "version": "nteract-front-end@1.0.0"
    }
  },
  "nbformat": 4,
  "nbformat_minor": 2
}
