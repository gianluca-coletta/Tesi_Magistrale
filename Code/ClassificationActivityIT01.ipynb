{
 "cells": [
  {
   "cell_type": "code",
   "execution_count": 138,
   "metadata": {},
   "outputs": [],
   "source": [
    "# Import libraries for ml classificaiton\n",
    "import numpy as np\n",
    "import pandas as pd\n",
    "import matplotlib.pyplot as plt\n",
    "import seaborn as sns\n"
   ]
  },
  {
   "cell_type": "code",
   "execution_count": 139,
   "metadata": {},
   "outputs": [],
   "source": [
    "# Load train and test datasets\n",
    "train = pd.read_csv('../CSV/train_set_it01.csv')\n",
    "test = pd.read_csv('../CSV/test_set_it01.csv', sep=';')"
   ]
  },
  {
   "cell_type": "code",
   "execution_count": 140,
   "metadata": {},
   "outputs": [
    {
     "name": "stdout",
     "output_type": "stream",
     "text": [
      "GjaeRecId                        0\n",
      "LedgerDimension                  0\n",
      "GroupChartOfAccountsValue        0\n",
      "Ledger                           0\n",
      "PostingLayer                     0\n",
      "SubledgerVoucher                 0\n",
      "CreatedBy                        0\n",
      "MainAccount                      0\n",
      "Text                             0\n",
      "JournalType                  10906\n",
      "JournalTypeLabel             10906\n",
      "NumOfLines                   10906\n",
      "CountLedgerJournal           10906\n",
      "TransactionCurrencyAmount        0\n",
      "TransactionCurrencyCode          0\n",
      "Activity                         0\n",
      "dtype: int64\n",
      "GjaeRecId                        0\n",
      "LedgerDimension                  0\n",
      "GroupChartOfAccountsValue        0\n",
      "Ledger                           0\n",
      "PostingLayer                     0\n",
      "SubledgerVoucher                 0\n",
      "CreatedBy                        0\n",
      "MainAccount                      0\n",
      "Text                            27\n",
      "JournalType                  38799\n",
      "JournalTypeLabel             38799\n",
      "NumOfLines                   38799\n",
      "CountLedgerJournal           38799\n",
      "TransactionCurrencyAmount        0\n",
      "TransactionCurrencyCode          0\n",
      "dtype: int64\n"
     ]
    }
   ],
   "source": [
    "# Check for missing values\n",
    "print(train.isnull().sum())\n",
    "print(test.isnull().sum())\n",
    "\n",
    "# Drop columns with missing values (JournalType, JournalTypeLabel, NumOfLines, CountLedgerJournal)\n",
    "train = train.drop(['JournalType', 'JournalTypeLabel', 'NumOfLines', 'CountLedgerJournal'], axis=1)\n",
    "test = test.drop(['JournalType', 'JournalTypeLabel', 'NumOfLines', 'CountLedgerJournal'], axis=1)"
   ]
  },
  {
   "cell_type": "code",
   "execution_count": 141,
   "metadata": {},
   "outputs": [],
   "source": [
    "# Drop rows where column Text is null in test set\n",
    "test = test.dropna(subset=['Text'])"
   ]
  },
  {
   "cell_type": "code",
   "execution_count": 142,
   "metadata": {},
   "outputs": [
    {
     "name": "stdout",
     "output_type": "stream",
     "text": [
      "(64000, 12)\n",
      "(38944, 11)\n"
     ]
    }
   ],
   "source": [
    "# Show the number of observations and features\n",
    "print(train.shape)\n",
    "print(test.shape)"
   ]
  },
  {
   "cell_type": "code",
   "execution_count": 143,
   "metadata": {},
   "outputs": [
    {
     "name": "stdout",
     "output_type": "stream",
     "text": [
      "GjaeRecId                    63959\n",
      "LedgerDimension               5605\n",
      "GroupChartOfAccountsValue      162\n",
      "Ledger                           1\n",
      "PostingLayer                     3\n",
      "SubledgerVoucher             40362\n",
      "CreatedBy                       25\n",
      "MainAccount                    366\n",
      "Text                         37375\n",
      "TransactionCurrencyAmount    34556\n",
      "TransactionCurrencyCode          1\n",
      "Activity                         8\n",
      "dtype: int64\n",
      "GjaeRecId                    38944\n",
      "LedgerDimension               4610\n",
      "GroupChartOfAccountsValue      135\n",
      "Ledger                           1\n",
      "PostingLayer                     3\n",
      "SubledgerVoucher              5418\n",
      "CreatedBy                        8\n",
      "MainAccount                    292\n",
      "Text                          5373\n",
      "TransactionCurrencyAmount    20526\n",
      "TransactionCurrencyCode          1\n",
      "dtype: int64\n"
     ]
    }
   ],
   "source": [
    "# Check unique values for each column\n",
    "print(train.nunique())\n",
    "print(test.nunique())"
   ]
  },
  {
   "cell_type": "code",
   "execution_count": 144,
   "metadata": {},
   "outputs": [
    {
     "name": "stdout",
     "output_type": "stream",
     "text": [
      "Activity\n",
      "ACT01    8000\n",
      "ACT03    8000\n",
      "ACT07    8000\n",
      "ACT09    8000\n",
      "ACT13    8000\n",
      "ACT15    8000\n",
      "ACT17    8000\n",
      "ACT32    8000\n",
      "Name: count, dtype: int64\n"
     ]
    }
   ],
   "source": [
    "# Print values of Activity columm\n",
    "print(train['Activity'].value_counts())"
   ]
  },
  {
   "cell_type": "code",
   "execution_count": 145,
   "metadata": {},
   "outputs": [],
   "source": [
    "# Drop column Ledger and TransactionCurrencyCode\n",
    "train = train.drop(['GjaeRecId', 'Ledger', 'SubledgerVoucher', 'TransactionCurrencyCode', 'TransactionCurrencyAmount'], axis=1)\n",
    "test = test.drop(['Ledger', 'SubledgerVoucher', 'TransactionCurrencyCode', 'TransactionCurrencyAmount'], axis=1)\n",
    "                       "
   ]
  },
  {
   "cell_type": "code",
   "execution_count": 146,
   "metadata": {},
   "outputs": [
    {
     "name": "stdout",
     "output_type": "stream",
     "text": [
      "(64000, 7)\n",
      "(38944, 7)\n",
      "   LedgerDimension GroupChartOfAccountsValue  PostingLayer   \n",
      "0       5637173888                    A10420             0  \\\n",
      "1       5645293726                  E41040IC             0   \n",
      "2       5637830841                  E41040IC             0   \n",
      "3       5637175101                    L20200             0   \n",
      "4       5644324475                    L20200             0   \n",
      "\n",
      "              CreatedBy  MainAccount   \n",
      "0  giovanna.santostefan   5637145546  \\\n",
      "1     annamaria.massara   5637145765   \n",
      "2  giovanna.santostefan   5637145765   \n",
      "3  giovanna.santostefan   5637145525   \n",
      "4  giovanna.santostefan   5637145525   \n",
      "\n",
      "                                                Text Activity  \n",
      "0               TERRATURISMO - ospitalità AMEX 02/18    ACT01  \n",
      "1  LEASEPLAN - CANONI SERVIZI AUTO GALLO  GF247CD...    ACT01  \n",
      "2  LEASEPLAN - Canoni Leasing Auto VILLA EX822AD ...    ACT01  \n",
      "3                        MANPOWER - interinali 05/18    ACT01  \n",
      "4                            OSCAR - TAXI 05-06/2022    ACT01  \n"
     ]
    }
   ],
   "source": [
    "# Show the number of observations and features\n",
    "print(train.shape)\n",
    "print(test.shape)\n",
    "print(train.head())"
   ]
  },
  {
   "cell_type": "code",
   "execution_count": 147,
   "metadata": {},
   "outputs": [
    {
     "name": "stdout",
     "output_type": "stream",
     "text": [
      "   LedgerDimension  GroupChartOfAccountsValue  PostingLayer  CreatedBy   \n",
      "0       5637173888                          8             0         12  \\\n",
      "1       5645293726                         58             0          4   \n",
      "2       5637830841                         58             0         12   \n",
      "3       5637175101                        125             0         12   \n",
      "4       5644324475                        125             0         12   \n",
      "\n",
      "   MainAccount                                               Text  Activity  \n",
      "0           85               TERRATURISMO - ospitalità AMEX 02/18         0  \n",
      "1          250  LEASEPLAN - CANONI SERVIZI AUTO GALLO  GF247CD...         0  \n",
      "2          250  LEASEPLAN - Canoni Leasing Auto VILLA EX822AD ...         0  \n",
      "3           72                        MANPOWER - interinali 05/18         0  \n",
      "4           72                            OSCAR - TAXI 05-06/2022         0  \n"
     ]
    }
   ],
   "source": [
    "# Encode GroupChartOfAccountsValue column to numeric values \n",
    "from sklearn.preprocessing import LabelEncoder\n",
    "le = LabelEncoder()\n",
    "train['GroupChartOfAccountsValue'] = le.fit_transform(train['GroupChartOfAccountsValue'])\n",
    "test['GroupChartOfAccountsValue'] = le.fit_transform(test['GroupChartOfAccountsValue'])\n",
    "\n",
    "# Encode Activity column to numeric values\n",
    "le = LabelEncoder()\n",
    "train['Activity'] = le.fit_transform(train['Activity'])\n",
    "\n",
    "# Encode CreatedBy column to numeric values \n",
    "le = LabelEncoder()\n",
    "train['CreatedBy'] = le.fit_transform(train['CreatedBy'])\n",
    "test['CreatedBy'] = le.fit_transform(test['CreatedBy'])\n",
    "\n",
    "# Encode MainAccount column to numeric values\n",
    "le = LabelEncoder()\n",
    "train['MainAccount'] = le.fit_transform(train['MainAccount'])\n",
    "test['MainAccount'] = le.fit_transform(test['MainAccount'])\n",
    "\n",
    "\n",
    "print(train.head())\n"
   ]
  },
  {
   "cell_type": "code",
   "execution_count": 148,
   "metadata": {},
   "outputs": [
    {
     "name": "stdout",
     "output_type": "stream",
     "text": [
      "   LedgerDimension  GroupChartOfAccountsValue  PostingLayer  CreatedBy   \n",
      "0       5637176289                          1             0         16  \\\n",
      "1       5637176287                          2             0         16   \n",
      "2       5645331199                        110             0          4   \n",
      "3       5645331216                        110             0          4   \n",
      "4       5637176125                         56             0         17   \n",
      "\n",
      "   MainAccount                            Text  Activity  \n",
      "0           55             comm. bancarie SOGE         4  \n",
      "1           30  AMAZON FT 2/446 DEL 12.06.2020         3  \n",
      "2          293      24009725, Spit fixed asset         6  \n",
      "3          289      36009208, Spit fixed asset         6  \n",
      "4          268              Ferie Staff  07/17         7  \n",
      "    GjaeRecId  LedgerDimension  GroupChartOfAccountsValue  PostingLayer   \n",
      "0  5741823175       5647352062                         32             0  \\\n",
      "1  5669250005       5642216682                         32             0   \n",
      "2  5669249923       5643674652                         32             0   \n",
      "3  5653582436       5637176082                         33             0   \n",
      "4  5746894466       5650591330                         32             0   \n",
      "\n",
      "   CreatedBy  MainAccount                                               Text  \n",
      "0          2          216  Trans REV: , 4000048967 FERIE GODUTE E ORE NON...  \n",
      "1          2          216  Trans REV: , 4000033606FERIE GODUTE E ORE NON ...  \n",
      "2          2          216  Trans REV: , 4000033606FERIE GODUTE E ORE NON ...  \n",
      "3          2          217                            Trans REV: , 4000027463  \n",
      "4          2          216  Trans REV: , 4000049873 FERIE GODUTE E ORE NON...  \n"
     ]
    }
   ],
   "source": [
    "# mescolare i dati\n",
    "train = train.sample(frac=1).reset_index(drop=True)\n",
    "\n",
    "print(train.head())\n",
    "print(test.head())\n"
   ]
  },
  {
   "cell_type": "code",
   "execution_count": 149,
   "metadata": {},
   "outputs": [],
   "source": [
    "# Remove numbers from the rows in the 'Text' column of the train dataset\n",
    "train['Text'] = train['Text'].str.replace('\\d+', '')\n",
    "\n",
    "# Remove numbers from the rows in the 'Text' column of the test dataset\n",
    "test['Text'] = test['Text'].str.replace('\\d+', '')"
   ]
  },
  {
   "cell_type": "code",
   "execution_count": 150,
   "metadata": {},
   "outputs": [],
   "source": [
    "# Remove punctuation and convert text to lowercase in the 'Text' column of 'train'\n",
    "train['Text'] = train['Text'].str.replace('[^\\w\\s]','').str.lower()\n",
    "\n",
    "# Remove punctuation and convert text to lowercase in the 'Text' column of 'test'\n",
    "test['Text'] = test['Text'].str.replace('[^\\w\\s]','').str.lower()"
   ]
  },
  {
   "cell_type": "code",
   "execution_count": 151,
   "metadata": {},
   "outputs": [],
   "source": [
    "# Create a TF-IDF vectorizer to convert the text of the law into a matrix of TF-IDF features\n",
    "from sklearn.feature_extraction.text import TfidfVectorizer\n",
    "vectorizer = TfidfVectorizer(ngram_range=(1, 2))\n",
    "\n",
    "# Fit and transform the TF-IDF vectorizer on the 'Text' column in 'train'\n",
    "tfidf_train = vectorizer.fit_transform(train['Text'])\n",
    "\n",
    "# Transform the 'Text' column in 'test'\n",
    "tfidf_test = vectorizer.transform(test['Text'])\n"
   ]
  },
  {
   "cell_type": "code",
   "execution_count": 152,
   "metadata": {},
   "outputs": [
    {
     "name": "stdout",
     "output_type": "stream",
     "text": [
      "0.81015625\n",
      "[[1544   36]\n",
      " [ 143 1136]]\n"
     ]
    }
   ],
   "source": [
    "# Split the train dataset into train and validation sets \n",
    "from sklearn.model_selection import train_test_split\n",
    "X_train, X_val, y_train, y_val = train_test_split(tfidf_train, train['Activity'], test_size=0.2, random_state=42)\n",
    "\n",
    "# Import the Multinomial Naive Bayes classifier\n",
    "from sklearn.naive_bayes import MultinomialNB\n",
    "\n",
    "# Instantiate the MultinomialNB classifier\n",
    "nb_classifier = MultinomialNB()\n",
    "\n",
    "# Fit the classifier to the training data\n",
    "nb_classifier.fit(X_train, y_train)\n",
    "\n",
    "# Create the predicted tags: pred\n",
    "pred = nb_classifier.predict(X_val)\n",
    "\n",
    "\n",
    "from sklearn import metrics\n",
    "# Calculate the accuracy score: score\n",
    "score = metrics.accuracy_score(y_val, pred)\n",
    "print(score)\n",
    "\n",
    "# Calculate the confusion matrix: cm\n",
    "cm = metrics.confusion_matrix(y_val, pred, labels=[0, 1])\n",
    "print(cm)\n",
    "\n"
   ]
  },
  {
   "cell_type": "code",
   "execution_count": 153,
   "metadata": {},
   "outputs": [
    {
     "name": "stdout",
     "output_type": "stream",
     "text": [
      "Iteration 1, loss = 0.96567701\n",
      "Iteration 2, loss = 0.29933296\n",
      "Iteration 3, loss = 0.20121142\n",
      "Iteration 4, loss = 0.17481460\n",
      "Iteration 5, loss = 0.16225972\n",
      "Iteration 6, loss = 0.15506094\n",
      "Iteration 7, loss = 0.14968927\n",
      "Iteration 8, loss = 0.14615939\n",
      "Iteration 9, loss = 0.14329345\n",
      "Iteration 10, loss = 0.14007001\n",
      "Iteration 11, loss = 0.13840331\n",
      "Iteration 12, loss = 0.13632185\n",
      "Iteration 13, loss = 0.13455399\n",
      "Iteration 14, loss = 0.13335140\n",
      "Iteration 15, loss = 0.13210263\n",
      "Iteration 16, loss = 0.13081109\n",
      "Iteration 17, loss = 0.12999120\n",
      "Iteration 18, loss = 0.12845974\n"
     ]
    }
   ],
   "source": [
    "# Train the model a Neural Network (MLPClassifier)\n",
    "from sklearn.neural_network import MLPClassifier\n",
    "mlp = MLPClassifier(hidden_layer_sizes=(100, 50), random_state=42, verbose=True)\n",
    "mlp.fit(X_train, y_train)\n",
    "\n",
    "# Predict the labels of the test set: y_pred\n",
    "y_pred = mlp.predict(X_val)\n",
    "\n",
    "# Calculate the accuracy score: score\n",
    "score = metrics.accuracy_score(y_val, y_pred)\n",
    "print(score)\n",
    "\n"
   ]
  }
 ],
 "metadata": {
  "kernelspec": {
   "display_name": "Python 3",
   "language": "python",
   "name": "python3"
  },
  "language_info": {
   "codemirror_mode": {
    "name": "ipython",
    "version": 3
   },
   "file_extension": ".py",
   "mimetype": "text/x-python",
   "name": "python",
   "nbconvert_exporter": "python",
   "pygments_lexer": "ipython3",
   "version": "3.11.0"
  }
 },
 "nbformat": 4,
 "nbformat_minor": 2
}
