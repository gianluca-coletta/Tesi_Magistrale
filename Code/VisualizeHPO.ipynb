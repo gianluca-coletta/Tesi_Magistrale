{
 "cells": [
  {
   "cell_type": "code",
   "execution_count": 22,
   "metadata": {},
   "outputs": [],
   "source": [
    "import matplotlib.pyplot as plt\n",
    "import pandas as pd\n",
    "from autogluon.timeseries import TimeSeriesPredictor, TimeSeriesDataFrame"
   ]
  },
  {
   "cell_type": "code",
   "execution_count": 23,
   "metadata": {},
   "outputs": [],
   "source": [
    "predictor = TimeSeriesPredictor.load('TemporalFusionTransformer')"
   ]
  },
  {
   "cell_type": "code",
   "execution_count": 24,
   "metadata": {},
   "outputs": [
    {
     "data": {
      "text/html": [
       "<div>\n",
       "<style scoped>\n",
       "    .dataframe tbody tr th:only-of-type {\n",
       "        vertical-align: middle;\n",
       "    }\n",
       "\n",
       "    .dataframe tbody tr th {\n",
       "        vertical-align: top;\n",
       "    }\n",
       "\n",
       "    .dataframe thead th {\n",
       "        text-align: right;\n",
       "    }\n",
       "</style>\n",
       "<table border=\"1\" class=\"dataframe\">\n",
       "  <thead>\n",
       "    <tr style=\"text-align: right;\">\n",
       "      <th></th>\n",
       "      <th>item_id</th>\n",
       "      <th>timestamp</th>\n",
       "      <th>target</th>\n",
       "      <th>ACT01</th>\n",
       "      <th>ACT03</th>\n",
       "      <th>ACT04</th>\n",
       "      <th>ACT07</th>\n",
       "      <th>ACT09</th>\n",
       "      <th>ACT13</th>\n",
       "      <th>ACT15</th>\n",
       "      <th>ACT17</th>\n",
       "      <th>ACT32</th>\n",
       "      <th>ACT44</th>\n",
       "    </tr>\n",
       "  </thead>\n",
       "  <tbody>\n",
       "    <tr>\n",
       "      <th>0</th>\n",
       "      <td>FR13</td>\n",
       "      <td>2019-12-30</td>\n",
       "      <td>7663.0</td>\n",
       "      <td>1267.0</td>\n",
       "      <td>299.0</td>\n",
       "      <td>0.0</td>\n",
       "      <td>2108.0</td>\n",
       "      <td>189.0</td>\n",
       "      <td>84.0</td>\n",
       "      <td>0.0</td>\n",
       "      <td>0.0</td>\n",
       "      <td>3716.0</td>\n",
       "      <td>0.0</td>\n",
       "    </tr>\n",
       "    <tr>\n",
       "      <th>1</th>\n",
       "      <td>FR13</td>\n",
       "      <td>2020-01-06</td>\n",
       "      <td>2917.0</td>\n",
       "      <td>1052.0</td>\n",
       "      <td>490.0</td>\n",
       "      <td>2.0</td>\n",
       "      <td>103.0</td>\n",
       "      <td>255.0</td>\n",
       "      <td>191.0</td>\n",
       "      <td>3.0</td>\n",
       "      <td>0.0</td>\n",
       "      <td>821.0</td>\n",
       "      <td>0.0</td>\n",
       "    </tr>\n",
       "    <tr>\n",
       "      <th>2</th>\n",
       "      <td>FR13</td>\n",
       "      <td>2020-01-13</td>\n",
       "      <td>2341.0</td>\n",
       "      <td>846.0</td>\n",
       "      <td>115.0</td>\n",
       "      <td>0.0</td>\n",
       "      <td>280.0</td>\n",
       "      <td>69.0</td>\n",
       "      <td>66.0</td>\n",
       "      <td>416.0</td>\n",
       "      <td>407.0</td>\n",
       "      <td>142.0</td>\n",
       "      <td>0.0</td>\n",
       "    </tr>\n",
       "    <tr>\n",
       "      <th>3</th>\n",
       "      <td>FR13</td>\n",
       "      <td>2020-01-20</td>\n",
       "      <td>3853.0</td>\n",
       "      <td>1350.0</td>\n",
       "      <td>932.0</td>\n",
       "      <td>44.0</td>\n",
       "      <td>568.0</td>\n",
       "      <td>297.0</td>\n",
       "      <td>278.0</td>\n",
       "      <td>81.0</td>\n",
       "      <td>80.0</td>\n",
       "      <td>223.0</td>\n",
       "      <td>0.0</td>\n",
       "    </tr>\n",
       "    <tr>\n",
       "      <th>4</th>\n",
       "      <td>FR13</td>\n",
       "      <td>2020-01-27</td>\n",
       "      <td>82251.0</td>\n",
       "      <td>1871.0</td>\n",
       "      <td>863.0</td>\n",
       "      <td>0.0</td>\n",
       "      <td>609.0</td>\n",
       "      <td>363.0</td>\n",
       "      <td>219.0</td>\n",
       "      <td>2.0</td>\n",
       "      <td>0.0</td>\n",
       "      <td>19393.0</td>\n",
       "      <td>58931.0</td>\n",
       "    </tr>\n",
       "  </tbody>\n",
       "</table>\n",
       "</div>"
      ],
      "text/plain": [
       "  item_id   timestamp   target   ACT01  ACT03  ACT04   ACT07  ACT09  ACT13  \\\n",
       "0    FR13  2019-12-30   7663.0  1267.0  299.0    0.0  2108.0  189.0   84.0   \n",
       "1    FR13  2020-01-06   2917.0  1052.0  490.0    2.0   103.0  255.0  191.0   \n",
       "2    FR13  2020-01-13   2341.0   846.0  115.0    0.0   280.0   69.0   66.0   \n",
       "3    FR13  2020-01-20   3853.0  1350.0  932.0   44.0   568.0  297.0  278.0   \n",
       "4    FR13  2020-01-27  82251.0  1871.0  863.0    0.0   609.0  363.0  219.0   \n",
       "\n",
       "   ACT15  ACT17    ACT32    ACT44  \n",
       "0    0.0    0.0   3716.0      0.0  \n",
       "1    3.0    0.0    821.0      0.0  \n",
       "2  416.0  407.0    142.0      0.0  \n",
       "3   81.0   80.0    223.0      0.0  \n",
       "4    2.0    0.0  19393.0  58931.0  "
      ]
     },
     "execution_count": 24,
     "metadata": {},
     "output_type": "execute_result"
    }
   ],
   "source": [
    "# Load data of closing transaction\n",
    "df = pd.read_csv('../CSV/df_TS_week.csv')\n",
    "df.head()"
   ]
  },
  {
   "cell_type": "code",
   "execution_count": 25,
   "metadata": {},
   "outputs": [],
   "source": [
    "# Create a new df of the item_id equal to IT01 \n",
    "df_IT = df[df['item_id'] == 'IT01']"
   ]
  },
  {
   "cell_type": "code",
   "execution_count": 28,
   "metadata": {},
   "outputs": [
    {
     "name": "stdout",
     "output_type": "stream",
     "text": [
      "Somma delle colonne ACT:\n",
      "ACT01     73515.0\n",
      "ACT03     16003.0\n",
      "ACT04         0.0\n",
      "ACT07     47411.0\n",
      "ACT09     13550.0\n",
      "ACT13     11661.0\n",
      "ACT15     47411.0\n",
      "ACT17     16085.0\n",
      "ACT32    131610.0\n",
      "ACT44     35752.0\n",
      "dtype: float64\n"
     ]
    }
   ],
   "source": [
    "# Calcola la somma delle colonne ACT\n",
    "act_sum = df_IT[['ACT01', 'ACT03', 'ACT04', 'ACT07', 'ACT09', 'ACT13', 'ACT15', 'ACT17', 'ACT32', 'ACT44']].sum()\n",
    "\n",
    "# Stampare il risultato\n",
    "print(\"Somma delle colonne ACT:\")\n",
    "print(act_sum)\n"
   ]
  },
  {
   "cell_type": "code",
   "execution_count": 6,
   "metadata": {},
   "outputs": [],
   "source": [
    "# Drop ACT04 column\n",
    "df_IT = df_IT.drop(columns=['ACT04'])"
   ]
  },
  {
   "cell_type": "code",
   "execution_count": 7,
   "metadata": {},
   "outputs": [
    {
     "name": "stdout",
     "output_type": "stream",
     "text": [
      "0.6976744186046512\n",
      "0.3023255813953488\n"
     ]
    }
   ],
   "source": [
    "# Split data into training and testing set; train set based on timestamp from 2020-01-01 to 2022-04-30 and test set based on timestamp from 2022-05-01 to 2023-04-30\n",
    "train_data = df_IT[df_IT['timestamp'] <= '2022-04-30']\n",
    "test_data = df_IT[df_IT['timestamp'] > '2022-04-30']\n",
    "\n",
    "# Calculate the percentage of the training set and testing set\n",
    "print(train_data.shape[0] / df_IT.shape[0])\n",
    "print(test_data.shape[0] / df_IT.shape[0])"
   ]
  },
  {
   "cell_type": "code",
   "execution_count": 8,
   "metadata": {},
   "outputs": [
    {
     "data": {
      "text/html": [
       "<div>\n",
       "<style scoped>\n",
       "    .dataframe tbody tr th:only-of-type {\n",
       "        vertical-align: middle;\n",
       "    }\n",
       "\n",
       "    .dataframe tbody tr th {\n",
       "        vertical-align: top;\n",
       "    }\n",
       "\n",
       "    .dataframe thead th {\n",
       "        text-align: right;\n",
       "    }\n",
       "</style>\n",
       "<table border=\"1\" class=\"dataframe\">\n",
       "  <thead>\n",
       "    <tr style=\"text-align: right;\">\n",
       "      <th></th>\n",
       "      <th></th>\n",
       "      <th>target</th>\n",
       "      <th>ACT01</th>\n",
       "      <th>ACT03</th>\n",
       "      <th>ACT07</th>\n",
       "      <th>ACT09</th>\n",
       "      <th>ACT13</th>\n",
       "      <th>ACT15</th>\n",
       "      <th>ACT17</th>\n",
       "      <th>ACT32</th>\n",
       "      <th>ACT44</th>\n",
       "    </tr>\n",
       "    <tr>\n",
       "      <th>item_id</th>\n",
       "      <th>timestamp</th>\n",
       "      <th></th>\n",
       "      <th></th>\n",
       "      <th></th>\n",
       "      <th></th>\n",
       "      <th></th>\n",
       "      <th></th>\n",
       "      <th></th>\n",
       "      <th></th>\n",
       "      <th></th>\n",
       "      <th></th>\n",
       "    </tr>\n",
       "  </thead>\n",
       "  <tbody>\n",
       "    <tr>\n",
       "      <th rowspan=\"5\" valign=\"top\">IT01</th>\n",
       "      <th>2019-12-30</th>\n",
       "      <td>7613.0</td>\n",
       "      <td>1228.0</td>\n",
       "      <td>87.0</td>\n",
       "      <td>195.0</td>\n",
       "      <td>188.0</td>\n",
       "      <td>32.0</td>\n",
       "      <td>1817.0</td>\n",
       "      <td>1255.0</td>\n",
       "      <td>2811.0</td>\n",
       "      <td>0.0</td>\n",
       "    </tr>\n",
       "    <tr>\n",
       "      <th>2020-01-06</th>\n",
       "      <td>390.0</td>\n",
       "      <td>87.0</td>\n",
       "      <td>63.0</td>\n",
       "      <td>5.0</td>\n",
       "      <td>8.0</td>\n",
       "      <td>0.0</td>\n",
       "      <td>0.0</td>\n",
       "      <td>0.0</td>\n",
       "      <td>227.0</td>\n",
       "      <td>0.0</td>\n",
       "    </tr>\n",
       "    <tr>\n",
       "      <th>2020-01-13</th>\n",
       "      <td>702.0</td>\n",
       "      <td>161.0</td>\n",
       "      <td>10.0</td>\n",
       "      <td>14.0</td>\n",
       "      <td>0.0</td>\n",
       "      <td>49.0</td>\n",
       "      <td>1.0</td>\n",
       "      <td>0.0</td>\n",
       "      <td>467.0</td>\n",
       "      <td>0.0</td>\n",
       "    </tr>\n",
       "    <tr>\n",
       "      <th>2020-01-20</th>\n",
       "      <td>941.0</td>\n",
       "      <td>437.0</td>\n",
       "      <td>143.0</td>\n",
       "      <td>86.0</td>\n",
       "      <td>67.0</td>\n",
       "      <td>110.0</td>\n",
       "      <td>0.0</td>\n",
       "      <td>0.0</td>\n",
       "      <td>98.0</td>\n",
       "      <td>0.0</td>\n",
       "    </tr>\n",
       "    <tr>\n",
       "      <th>2020-01-27</th>\n",
       "      <td>1470.0</td>\n",
       "      <td>403.0</td>\n",
       "      <td>457.0</td>\n",
       "      <td>178.0</td>\n",
       "      <td>108.0</td>\n",
       "      <td>48.0</td>\n",
       "      <td>7.0</td>\n",
       "      <td>0.0</td>\n",
       "      <td>269.0</td>\n",
       "      <td>0.0</td>\n",
       "    </tr>\n",
       "  </tbody>\n",
       "</table>\n",
       "</div>"
      ],
      "text/plain": [
       "                    target   ACT01  ACT03  ACT07  ACT09  ACT13   ACT15  \\\n",
       "item_id timestamp                                                        \n",
       "IT01    2019-12-30  7613.0  1228.0   87.0  195.0  188.0   32.0  1817.0   \n",
       "        2020-01-06   390.0    87.0   63.0    5.0    8.0    0.0     0.0   \n",
       "        2020-01-13   702.0   161.0   10.0   14.0    0.0   49.0     1.0   \n",
       "        2020-01-20   941.0   437.0  143.0   86.0   67.0  110.0     0.0   \n",
       "        2020-01-27  1470.0   403.0  457.0  178.0  108.0   48.0     7.0   \n",
       "\n",
       "                     ACT17   ACT32  ACT44  \n",
       "item_id timestamp                          \n",
       "IT01    2019-12-30  1255.0  2811.0    0.0  \n",
       "        2020-01-06     0.0   227.0    0.0  \n",
       "        2020-01-13     0.0   467.0    0.0  \n",
       "        2020-01-20     0.0    98.0    0.0  \n",
       "        2020-01-27     0.0   269.0    0.0  "
      ]
     },
     "execution_count": 8,
     "metadata": {},
     "output_type": "execute_result"
    }
   ],
   "source": [
    "# Convert train_data to TimeSeriesDataFrame\n",
    "train_data = TimeSeriesDataFrame(\n",
    "    train_data, \n",
    "    id_column=\"item_id\",\n",
    "    timestamp_column=\"timestamp\"\n",
    "    \n",
    ")\n",
    "\n",
    "train_data.head()"
   ]
  },
  {
   "cell_type": "code",
   "execution_count": 9,
   "metadata": {},
   "outputs": [
    {
     "data": {
      "text/html": [
       "<div>\n",
       "<style scoped>\n",
       "    .dataframe tbody tr th:only-of-type {\n",
       "        vertical-align: middle;\n",
       "    }\n",
       "\n",
       "    .dataframe tbody tr th {\n",
       "        vertical-align: top;\n",
       "    }\n",
       "\n",
       "    .dataframe thead th {\n",
       "        text-align: right;\n",
       "    }\n",
       "</style>\n",
       "<table border=\"1\" class=\"dataframe\">\n",
       "  <thead>\n",
       "    <tr style=\"text-align: right;\">\n",
       "      <th></th>\n",
       "      <th></th>\n",
       "      <th>target</th>\n",
       "      <th>ACT01</th>\n",
       "      <th>ACT03</th>\n",
       "      <th>ACT07</th>\n",
       "      <th>ACT09</th>\n",
       "      <th>ACT13</th>\n",
       "      <th>ACT15</th>\n",
       "      <th>ACT17</th>\n",
       "      <th>ACT32</th>\n",
       "      <th>ACT44</th>\n",
       "    </tr>\n",
       "    <tr>\n",
       "      <th>item_id</th>\n",
       "      <th>timestamp</th>\n",
       "      <th></th>\n",
       "      <th></th>\n",
       "      <th></th>\n",
       "      <th></th>\n",
       "      <th></th>\n",
       "      <th></th>\n",
       "      <th></th>\n",
       "      <th></th>\n",
       "      <th></th>\n",
       "      <th></th>\n",
       "    </tr>\n",
       "  </thead>\n",
       "  <tbody>\n",
       "    <tr>\n",
       "      <th rowspan=\"5\" valign=\"top\">IT01</th>\n",
       "      <th>2022-05-02</th>\n",
       "      <td>4074.0</td>\n",
       "      <td>788.0</td>\n",
       "      <td>29.0</td>\n",
       "      <td>396.0</td>\n",
       "      <td>30.0</td>\n",
       "      <td>111.0</td>\n",
       "      <td>515.0</td>\n",
       "      <td>145.0</td>\n",
       "      <td>2060.0</td>\n",
       "      <td>0.0</td>\n",
       "    </tr>\n",
       "    <tr>\n",
       "      <th>2022-05-09</th>\n",
       "      <td>756.0</td>\n",
       "      <td>137.0</td>\n",
       "      <td>0.0</td>\n",
       "      <td>124.0</td>\n",
       "      <td>0.0</td>\n",
       "      <td>0.0</td>\n",
       "      <td>0.0</td>\n",
       "      <td>0.0</td>\n",
       "      <td>495.0</td>\n",
       "      <td>0.0</td>\n",
       "    </tr>\n",
       "    <tr>\n",
       "      <th>2022-05-16</th>\n",
       "      <td>439.0</td>\n",
       "      <td>153.0</td>\n",
       "      <td>27.0</td>\n",
       "      <td>76.0</td>\n",
       "      <td>2.0</td>\n",
       "      <td>24.0</td>\n",
       "      <td>0.0</td>\n",
       "      <td>0.0</td>\n",
       "      <td>157.0</td>\n",
       "      <td>0.0</td>\n",
       "    </tr>\n",
       "    <tr>\n",
       "      <th>2022-05-23</th>\n",
       "      <td>2078.0</td>\n",
       "      <td>452.0</td>\n",
       "      <td>28.0</td>\n",
       "      <td>387.0</td>\n",
       "      <td>57.0</td>\n",
       "      <td>158.0</td>\n",
       "      <td>506.0</td>\n",
       "      <td>138.0</td>\n",
       "      <td>352.0</td>\n",
       "      <td>0.0</td>\n",
       "    </tr>\n",
       "    <tr>\n",
       "      <th>2022-05-30</th>\n",
       "      <td>3883.0</td>\n",
       "      <td>912.0</td>\n",
       "      <td>198.0</td>\n",
       "      <td>514.0</td>\n",
       "      <td>178.0</td>\n",
       "      <td>261.0</td>\n",
       "      <td>14.0</td>\n",
       "      <td>10.0</td>\n",
       "      <td>1796.0</td>\n",
       "      <td>0.0</td>\n",
       "    </tr>\n",
       "  </tbody>\n",
       "</table>\n",
       "</div>"
      ],
      "text/plain": [
       "                    target  ACT01  ACT03  ACT07  ACT09  ACT13  ACT15  ACT17  \\\n",
       "item_id timestamp                                                             \n",
       "IT01    2022-05-02  4074.0  788.0   29.0  396.0   30.0  111.0  515.0  145.0   \n",
       "        2022-05-09   756.0  137.0    0.0  124.0    0.0    0.0    0.0    0.0   \n",
       "        2022-05-16   439.0  153.0   27.0   76.0    2.0   24.0    0.0    0.0   \n",
       "        2022-05-23  2078.0  452.0   28.0  387.0   57.0  158.0  506.0  138.0   \n",
       "        2022-05-30  3883.0  912.0  198.0  514.0  178.0  261.0   14.0   10.0   \n",
       "\n",
       "                     ACT32  ACT44  \n",
       "item_id timestamp                  \n",
       "IT01    2022-05-02  2060.0    0.0  \n",
       "        2022-05-09   495.0    0.0  \n",
       "        2022-05-16   157.0    0.0  \n",
       "        2022-05-23   352.0    0.0  \n",
       "        2022-05-30  1796.0    0.0  "
      ]
     },
     "execution_count": 9,
     "metadata": {},
     "output_type": "execute_result"
    }
   ],
   "source": [
    "# Convert test_data to TimeSeriesDataFrame\n",
    "test_data = TimeSeriesDataFrame(\n",
    "    test_data, \n",
    "    id_column=\"item_id\",\n",
    "    timestamp_column=\"timestamp\"\n",
    "    \n",
    ")\n",
    "\n",
    "test_data.head()"
   ]
  },
  {
   "cell_type": "code",
   "execution_count": 10,
   "metadata": {},
   "outputs": [
    {
     "name": "stderr",
     "output_type": "stream",
     "text": [
      "data with frequency 'None' has been resampled to frequency 'W-MON'.\n",
      "data contains missing values represented by NaN. They have been filled by carrying forward the last valid observation.\n"
     ]
    },
    {
     "data": {
      "text/html": [
       "<div>\n",
       "<style scoped>\n",
       "    .dataframe tbody tr th:only-of-type {\n",
       "        vertical-align: middle;\n",
       "    }\n",
       "\n",
       "    .dataframe tbody tr th {\n",
       "        vertical-align: top;\n",
       "    }\n",
       "\n",
       "    .dataframe thead th {\n",
       "        text-align: right;\n",
       "    }\n",
       "</style>\n",
       "<table border=\"1\" class=\"dataframe\">\n",
       "  <thead>\n",
       "    <tr style=\"text-align: right;\">\n",
       "      <th></th>\n",
       "      <th></th>\n",
       "      <th>mean</th>\n",
       "      <th>0.1</th>\n",
       "      <th>0.2</th>\n",
       "      <th>0.3</th>\n",
       "      <th>0.4</th>\n",
       "      <th>0.5</th>\n",
       "      <th>0.6</th>\n",
       "      <th>0.7</th>\n",
       "      <th>0.8</th>\n",
       "      <th>0.9</th>\n",
       "    </tr>\n",
       "    <tr>\n",
       "      <th>item_id</th>\n",
       "      <th>timestamp</th>\n",
       "      <th></th>\n",
       "      <th></th>\n",
       "      <th></th>\n",
       "      <th></th>\n",
       "      <th></th>\n",
       "      <th></th>\n",
       "      <th></th>\n",
       "      <th></th>\n",
       "      <th></th>\n",
       "      <th></th>\n",
       "    </tr>\n",
       "  </thead>\n",
       "  <tbody>\n",
       "    <tr>\n",
       "      <th rowspan=\"5\" valign=\"top\">IT01</th>\n",
       "      <th>2022-05-02</th>\n",
       "      <td>4060.991211</td>\n",
       "      <td>3215.882812</td>\n",
       "      <td>3743.015137</td>\n",
       "      <td>4150.502930</td>\n",
       "      <td>4275.022949</td>\n",
       "      <td>4060.991211</td>\n",
       "      <td>4169.366699</td>\n",
       "      <td>4447.088867</td>\n",
       "      <td>4613.831543</td>\n",
       "      <td>4388.032227</td>\n",
       "    </tr>\n",
       "    <tr>\n",
       "      <th>2022-05-09</th>\n",
       "      <td>398.300903</td>\n",
       "      <td>-10.292969</td>\n",
       "      <td>-138.002441</td>\n",
       "      <td>129.750977</td>\n",
       "      <td>493.525635</td>\n",
       "      <td>398.300903</td>\n",
       "      <td>473.989014</td>\n",
       "      <td>811.362061</td>\n",
       "      <td>1021.865723</td>\n",
       "      <td>1079.927246</td>\n",
       "    </tr>\n",
       "    <tr>\n",
       "      <th>2022-05-16</th>\n",
       "      <td>582.582275</td>\n",
       "      <td>-13.589844</td>\n",
       "      <td>10.437256</td>\n",
       "      <td>407.414185</td>\n",
       "      <td>600.395874</td>\n",
       "      <td>582.582275</td>\n",
       "      <td>891.224854</td>\n",
       "      <td>1053.071533</td>\n",
       "      <td>1094.350220</td>\n",
       "      <td>1227.486938</td>\n",
       "    </tr>\n",
       "    <tr>\n",
       "      <th>2022-05-23</th>\n",
       "      <td>985.903687</td>\n",
       "      <td>415.303833</td>\n",
       "      <td>719.823608</td>\n",
       "      <td>995.340332</td>\n",
       "      <td>983.599487</td>\n",
       "      <td>985.903687</td>\n",
       "      <td>1204.947632</td>\n",
       "      <td>1297.553955</td>\n",
       "      <td>1383.684814</td>\n",
       "      <td>1541.659180</td>\n",
       "    </tr>\n",
       "    <tr>\n",
       "      <th>2022-05-30</th>\n",
       "      <td>4143.916016</td>\n",
       "      <td>2761.564209</td>\n",
       "      <td>3637.020020</td>\n",
       "      <td>3559.415039</td>\n",
       "      <td>3967.740723</td>\n",
       "      <td>4143.916016</td>\n",
       "      <td>4136.762207</td>\n",
       "      <td>4477.135254</td>\n",
       "      <td>4604.348633</td>\n",
       "      <td>4766.291992</td>\n",
       "    </tr>\n",
       "  </tbody>\n",
       "</table>\n",
       "</div>"
      ],
      "text/plain": [
       "                           mean          0.1          0.2          0.3  \\\n",
       "item_id timestamp                                                        \n",
       "IT01    2022-05-02  4060.991211  3215.882812  3743.015137  4150.502930   \n",
       "        2022-05-09   398.300903   -10.292969  -138.002441   129.750977   \n",
       "        2022-05-16   582.582275   -13.589844    10.437256   407.414185   \n",
       "        2022-05-23   985.903687   415.303833   719.823608   995.340332   \n",
       "        2022-05-30  4143.916016  2761.564209  3637.020020  3559.415039   \n",
       "\n",
       "                            0.4          0.5          0.6          0.7  \\\n",
       "item_id timestamp                                                        \n",
       "IT01    2022-05-02  4275.022949  4060.991211  4169.366699  4447.088867   \n",
       "        2022-05-09   493.525635   398.300903   473.989014   811.362061   \n",
       "        2022-05-16   600.395874   582.582275   891.224854  1053.071533   \n",
       "        2022-05-23   983.599487   985.903687  1204.947632  1297.553955   \n",
       "        2022-05-30  3967.740723  4143.916016  4136.762207  4477.135254   \n",
       "\n",
       "                            0.8          0.9  \n",
       "item_id timestamp                             \n",
       "IT01    2022-05-02  4613.831543  4388.032227  \n",
       "        2022-05-09  1021.865723  1079.927246  \n",
       "        2022-05-16  1094.350220  1227.486938  \n",
       "        2022-05-23  1383.684814  1541.659180  \n",
       "        2022-05-30  4604.348633  4766.291992  "
      ]
     },
     "execution_count": 10,
     "metadata": {},
     "output_type": "execute_result"
    }
   ],
   "source": [
    "# Make prediction on training data\n",
    "predictions = predictor.predict(train_data, random_seed=42, model=\"TemporalFusionTransformer\\eb7eb3c8\")\n",
    "predictions.head()"
   ]
  },
  {
   "cell_type": "code",
   "execution_count": 11,
   "metadata": {},
   "outputs": [
    {
     "data": {
      "text/html": [
       "<div>\n",
       "<style scoped>\n",
       "    .dataframe tbody tr th:only-of-type {\n",
       "        vertical-align: middle;\n",
       "    }\n",
       "\n",
       "    .dataframe tbody tr th {\n",
       "        vertical-align: top;\n",
       "    }\n",
       "\n",
       "    .dataframe thead th {\n",
       "        text-align: right;\n",
       "    }\n",
       "</style>\n",
       "<table border=\"1\" class=\"dataframe\">\n",
       "  <thead>\n",
       "    <tr style=\"text-align: right;\">\n",
       "      <th></th>\n",
       "      <th>model</th>\n",
       "      <th>score_test</th>\n",
       "      <th>score_val</th>\n",
       "      <th>pred_time_test</th>\n",
       "      <th>pred_time_val</th>\n",
       "      <th>fit_time_marginal</th>\n",
       "      <th>fit_order</th>\n",
       "    </tr>\n",
       "  </thead>\n",
       "  <tbody>\n",
       "    <tr>\n",
       "      <th>0</th>\n",
       "      <td>TemporalFusionTransformer\\29b78c6b</td>\n",
       "      <td>-0.143218</td>\n",
       "      <td>-0.538773</td>\n",
       "      <td>0.062431</td>\n",
       "      <td>0.022325</td>\n",
       "      <td>18783.216242</td>\n",
       "      <td>4</td>\n",
       "    </tr>\n",
       "    <tr>\n",
       "      <th>1</th>\n",
       "      <td>WeightedEnsemble</td>\n",
       "      <td>-0.155409</td>\n",
       "      <td>-0.499259</td>\n",
       "      <td>0.240689</td>\n",
       "      <td>0.132992</td>\n",
       "      <td>2.523845</td>\n",
       "      <td>5</td>\n",
       "    </tr>\n",
       "    <tr>\n",
       "      <th>2</th>\n",
       "      <td>TemporalFusionTransformer\\761537f1</td>\n",
       "      <td>-0.243509</td>\n",
       "      <td>-0.561396</td>\n",
       "      <td>0.059595</td>\n",
       "      <td>0.043957</td>\n",
       "      <td>7090.265935</td>\n",
       "      <td>3</td>\n",
       "    </tr>\n",
       "    <tr>\n",
       "      <th>3</th>\n",
       "      <td>TemporalFusionTransformer\\9ae2dec6</td>\n",
       "      <td>-0.277100</td>\n",
       "      <td>-0.569448</td>\n",
       "      <td>0.051111</td>\n",
       "      <td>0.035004</td>\n",
       "      <td>1723.242944</td>\n",
       "      <td>1</td>\n",
       "    </tr>\n",
       "    <tr>\n",
       "      <th>4</th>\n",
       "      <td>TemporalFusionTransformer\\eb7eb3c8</td>\n",
       "      <td>-0.377796</td>\n",
       "      <td>-0.564354</td>\n",
       "      <td>0.064551</td>\n",
       "      <td>0.031706</td>\n",
       "      <td>7255.747069</td>\n",
       "      <td>2</td>\n",
       "    </tr>\n",
       "  </tbody>\n",
       "</table>\n",
       "</div>"
      ],
      "text/plain": [
       "                                model  score_test  score_val  pred_time_test  \\\n",
       "0  TemporalFusionTransformer\\29b78c6b   -0.143218  -0.538773        0.062431   \n",
       "1                    WeightedEnsemble   -0.155409  -0.499259        0.240689   \n",
       "2  TemporalFusionTransformer\\761537f1   -0.243509  -0.561396        0.059595   \n",
       "3  TemporalFusionTransformer\\9ae2dec6   -0.277100  -0.569448        0.051111   \n",
       "4  TemporalFusionTransformer\\eb7eb3c8   -0.377796  -0.564354        0.064551   \n",
       "\n",
       "   pred_time_val  fit_time_marginal  fit_order  \n",
       "0       0.022325       18783.216242          4  \n",
       "1       0.132992           2.523845          5  \n",
       "2       0.043957        7090.265935          3  \n",
       "3       0.035004        1723.242944          1  \n",
       "4       0.031706        7255.747069          2  "
      ]
     },
     "execution_count": 11,
     "metadata": {},
     "output_type": "execute_result"
    }
   ],
   "source": [
    "predictor.leaderboard(test_data)"
   ]
  },
  {
   "cell_type": "code",
   "execution_count": 12,
   "metadata": {},
   "outputs": [
    {
     "data": {
      "text/plain": [
       "<matplotlib.legend.Legend at 0x21a7b6e1220>"
      ]
     },
     "execution_count": 12,
     "metadata": {},
     "output_type": "execute_result"
    },
    {
     "data": {
      "image/png": "[encoded data removed]",
      "text/plain": [
       "<Figure size 2000x500 with 1 Axes>"
      ]
     },
     "metadata": {},
     "output_type": "display_data"
    }
   ],
   "source": [
    "plt.figure(figsize=(20, 5))\n",
    "plt.title(\"Comparison between values predicted by the model and actual values from test data\")\n",
    "\n",
    "item_id = \"IT01\"\n",
    "y_past = train_data.loc[item_id][\"target\"]\n",
    "y_pred = predictions.loc[item_id]\n",
    "y_test = test_data.loc[item_id][\"target\"][:12]\n",
    "\n",
    "plt.plot(y_past[-8:], label=\"Past time series values\",  marker='o', linestyle='-')\n",
    "plt.plot(y_pred[\"mean\"], label=\"Mean forecast\",  marker='o', linestyle='-')\n",
    "plt.plot(y_test, label=\"Future time series values\",  marker='o', linestyle='-')\n",
    "\n",
    "plt.fill_between(\n",
    "    y_pred.index, y_pred[\"0.1\"], y_pred[\"0.9\"], color=\"red\", alpha=0.1, label=f\"10%-90% confidence interval\"\n",
    ")\n",
    "plt.legend()"
   ]
  },
  {
   "cell_type": "code",
   "execution_count": 13,
   "metadata": {},
   "outputs": [
    {
     "data": {
      "text/plain": [
       "18820.865"
      ]
     },
     "execution_count": 13,
     "metadata": {},
     "output_type": "execute_result"
    }
   ],
   "source": [
    "# Sum all value of mean forecast of predictions where item_id is IT01\n",
    "predictions.loc['IT01']['mean'].sum()"
   ]
  },
  {
   "cell_type": "code",
   "execution_count": 14,
   "metadata": {},
   "outputs": [
    {
     "data": {
      "text/plain": [
       "21311.0"
      ]
     },
     "execution_count": 14,
     "metadata": {},
     "output_type": "execute_result"
    }
   ],
   "source": [
    "# Sum all value of target of test_data \n",
    "test_data.loc['IT01']['target'][:12].sum()"
   ]
  },
  {
   "cell_type": "code",
   "execution_count": 15,
   "metadata": {},
   "outputs": [
    {
     "data": {
      "text/plain": [
       "timestamp\n",
       "2022-05-02    4074.0\n",
       "2022-05-09     756.0\n",
       "2022-05-16     439.0\n",
       "2022-05-23    2078.0\n",
       "2022-05-30    3883.0\n",
       "2022-06-06    1630.0\n",
       "2022-06-13     585.0\n",
       "2022-06-20    1681.0\n",
       "2022-06-27    1956.0\n",
       "2022-07-04    2687.0\n",
       "2022-07-11     263.0\n",
       "2022-07-18    1279.0\n",
       "Name: target, dtype: float64"
      ]
     },
     "execution_count": 15,
     "metadata": {},
     "output_type": "execute_result"
    }
   ],
   "source": [
    "# Print first 12 rows of test_data\n",
    "test_data.loc['IT01']['target'][:12]"
   ]
  },
  {
   "cell_type": "code",
   "execution_count": 16,
   "metadata": {},
   "outputs": [
    {
     "data": {
      "text/plain": [
       "timestamp\n",
       "2022-05-02     -13.008789\n",
       "2022-05-09    -357.699097\n",
       "2022-05-16     143.582275\n",
       "2022-05-23   -1092.096313\n",
       "2022-05-30     260.916016\n",
       "2022-06-06    -941.967407\n",
       "2022-06-13      25.815186\n",
       "2022-06-20    -886.450928\n",
       "2022-06-27    1019.446045\n",
       "2022-07-04    -654.067627\n",
       "2022-07-11     519.802002\n",
       "2022-07-18    -514.405518\n",
       "dtype: float64"
      ]
     },
     "execution_count": 16,
     "metadata": {},
     "output_type": "execute_result"
    }
   ],
   "source": [
    "# Calculate difference betweend each prediction and actual value of test_data\n",
    "diff = predictions.loc['IT01']['mean'] - test_data.loc['IT01']['target'][:12]\n",
    "diff"
   ]
  },
  {
   "cell_type": "code",
   "execution_count": 17,
   "metadata": {},
   "outputs": [
    {
     "data": {
      "text/plain": [
       "['TemporalFusionTransformer\\\\9ae2dec6',\n",
       " 'TemporalFusionTransformer\\\\eb7eb3c8',\n",
       " 'TemporalFusionTransformer\\\\761537f1',\n",
       " 'TemporalFusionTransformer\\\\29b78c6b',\n",
       " 'WeightedEnsemble']"
      ]
     },
     "execution_count": 17,
     "metadata": {},
     "output_type": "execute_result"
    }
   ],
   "source": [
    "# Show model names\n",
    "predictor.model_names()"
   ]
  },
  {
   "cell_type": "code",
   "execution_count": 18,
   "metadata": {},
   "outputs": [
    {
     "data": {
      "text/plain": [
       "{'hidden_dim': 32,\n",
       " 'variable_dim': 128,\n",
       " 'num_heads': 8,\n",
       " 'dropout_rate': 0.17973684761326877,\n",
       " 'max_epochs': 150,\n",
       " 'batch_size': 64,\n",
       " 'lr': 0.0001}"
      ]
     },
     "execution_count": 18,
     "metadata": {},
     "output_type": "execute_result"
    }
   ],
   "source": [
    "# Show parameters of the model\n",
    "model = predictor._trainer.load_model(\"TemporalFusionTransformer\\\\eb7eb3c8\")  # provide the model name here\n",
    "model.get_user_params()"
   ]
  },
  {
   "cell_type": "code",
   "execution_count": 19,
   "metadata": {},
   "outputs": [
    {
     "data": {
      "text/plain": [
       "{'hidden_dim': 32,\n",
       " 'variable_dim': 32,\n",
       " 'num_heads': 2,\n",
       " 'dropout_rate': 0.1,\n",
       " 'max_epochs': 100,\n",
       " 'batch_size': 64,\n",
       " 'lr': 0.01}"
      ]
     },
     "execution_count": 19,
     "metadata": {},
     "output_type": "execute_result"
    }
   ],
   "source": [
    "# Show parameters of the model\n",
    "model = predictor._trainer.load_model(\"TemporalFusionTransformer\\\\9ae2dec6\")  # provide the model name here\n",
    "model.get_user_params()"
   ]
  },
  {
   "cell_type": "code",
   "execution_count": 20,
   "metadata": {},
   "outputs": [
    {
     "data": {
      "text/plain": [
       "{'hidden_dim': 128,\n",
       " 'variable_dim': 32,\n",
       " 'num_heads': 4,\n",
       " 'dropout_rate': 0.3964687732560638,\n",
       " 'max_epochs': 150,\n",
       " 'batch_size': 128,\n",
       " 'lr': 0.0001}"
      ]
     },
     "execution_count": 20,
     "metadata": {},
     "output_type": "execute_result"
    }
   ],
   "source": [
    "# Show parameters of the model\n",
    "model = predictor._trainer.load_model(\"TemporalFusionTransformer\\\\761537f1\")  # provide the model name here\n",
    "model.get_user_params()"
   ]
  },
  {
   "cell_type": "code",
   "execution_count": 21,
   "metadata": {},
   "outputs": [
    {
     "data": {
      "text/plain": [
       "{'hidden_dim': 32,\n",
       " 'variable_dim': 128,\n",
       " 'num_heads': 4,\n",
       " 'dropout_rate': 0.6831324655873079,\n",
       " 'max_epochs': 200,\n",
       " 'batch_size': 256,\n",
       " 'lr': 0.01}"
      ]
     },
     "execution_count": 21,
     "metadata": {},
     "output_type": "execute_result"
    }
   ],
   "source": [
    "# Show parameters of the model\n",
    "model = predictor._trainer.load_model(\"TemporalFusionTransformer\\\\29b78c6b\")  # provide the model name here\n",
    "model.get_user_params()"
   ]
  }
 ],
 "metadata": {
  "kernelspec": {
   "display_name": "LAB1",
   "language": "python",
   "name": "python3"
  },
  "language_info": {
   "codemirror_mode": {
    "name": "ipython",
    "version": 3
   },
   "file_extension": ".py",
   "mimetype": "text/x-python",
   "name": "python",
   "nbconvert_exporter": "python",
   "pygments_lexer": "ipython3",
   "version": "3.9.7"
  }
 },
 "nbformat": 4,
 "nbformat_minor": 2
}
