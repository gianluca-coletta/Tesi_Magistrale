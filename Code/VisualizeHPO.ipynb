{
 "cells": [
  {
   "cell_type": "code",
   "execution_count": 1,
   "metadata": {},
   "outputs": [],
   "source": [
    "import matplotlib.pyplot as plt\n",
    "import pandas as pd\n",
    "from autogluon.timeseries import TimeSeriesPredictor, TimeSeriesDataFrame"
   ]
  },
  {
   "cell_type": "code",
   "execution_count": 2,
   "metadata": {},
   "outputs": [],
   "source": [
    "predictor = TimeSeriesPredictor.load('TemporalFusionTransformer')"
   ]
  },
  {
   "cell_type": "code",
   "execution_count": 3,
   "metadata": {},
   "outputs": [
    {
     "data": {
      "text/html": [
       "<div>\n",
       "<style scoped>\n",
       "    .dataframe tbody tr th:only-of-type {\n",
       "        vertical-align: middle;\n",
       "    }\n",
       "\n",
       "    .dataframe tbody tr th {\n",
       "        vertical-align: top;\n",
       "    }\n",
       "\n",
       "    .dataframe thead th {\n",
       "        text-align: right;\n",
       "    }\n",
       "</style>\n",
       "<table border=\"1\" class=\"dataframe\">\n",
       "  <thead>\n",
       "    <tr style=\"text-align: right;\">\n",
       "      <th></th>\n",
       "      <th>item_id</th>\n",
       "      <th>timestamp</th>\n",
       "      <th>target</th>\n",
       "      <th>ACT01</th>\n",
       "      <th>ACT03</th>\n",
       "      <th>ACT04</th>\n",
       "      <th>ACT07</th>\n",
       "      <th>ACT09</th>\n",
       "      <th>ACT13</th>\n",
       "      <th>ACT15</th>\n",
       "      <th>ACT17</th>\n",
       "      <th>ACT32</th>\n",
       "      <th>ACT44</th>\n",
       "    </tr>\n",
       "  </thead>\n",
       "  <tbody>\n",
       "    <tr>\n",
       "      <th>0</th>\n",
       "      <td>FR13</td>\n",
       "      <td>2019-12-30</td>\n",
       "      <td>7663.0</td>\n",
       "      <td>1267.0</td>\n",
       "      <td>299.0</td>\n",
       "      <td>0.0</td>\n",
       "      <td>2108.0</td>\n",
       "      <td>189.0</td>\n",
       "      <td>84.0</td>\n",
       "      <td>0.0</td>\n",
       "      <td>0.0</td>\n",
       "      <td>3716.0</td>\n",
       "      <td>0.0</td>\n",
       "    </tr>\n",
       "    <tr>\n",
       "      <th>1</th>\n",
       "      <td>FR13</td>\n",
       "      <td>2020-01-06</td>\n",
       "      <td>2917.0</td>\n",
       "      <td>1052.0</td>\n",
       "      <td>490.0</td>\n",
       "      <td>2.0</td>\n",
       "      <td>103.0</td>\n",
       "      <td>255.0</td>\n",
       "      <td>191.0</td>\n",
       "      <td>3.0</td>\n",
       "      <td>0.0</td>\n",
       "      <td>821.0</td>\n",
       "      <td>0.0</td>\n",
       "    </tr>\n",
       "    <tr>\n",
       "      <th>2</th>\n",
       "      <td>FR13</td>\n",
       "      <td>2020-01-13</td>\n",
       "      <td>2341.0</td>\n",
       "      <td>846.0</td>\n",
       "      <td>115.0</td>\n",
       "      <td>0.0</td>\n",
       "      <td>280.0</td>\n",
       "      <td>69.0</td>\n",
       "      <td>66.0</td>\n",
       "      <td>416.0</td>\n",
       "      <td>407.0</td>\n",
       "      <td>142.0</td>\n",
       "      <td>0.0</td>\n",
       "    </tr>\n",
       "    <tr>\n",
       "      <th>3</th>\n",
       "      <td>FR13</td>\n",
       "      <td>2020-01-20</td>\n",
       "      <td>3853.0</td>\n",
       "      <td>1350.0</td>\n",
       "      <td>932.0</td>\n",
       "      <td>44.0</td>\n",
       "      <td>568.0</td>\n",
       "      <td>297.0</td>\n",
       "      <td>278.0</td>\n",
       "      <td>81.0</td>\n",
       "      <td>80.0</td>\n",
       "      <td>223.0</td>\n",
       "      <td>0.0</td>\n",
       "    </tr>\n",
       "    <tr>\n",
       "      <th>4</th>\n",
       "      <td>FR13</td>\n",
       "      <td>2020-01-27</td>\n",
       "      <td>82251.0</td>\n",
       "      <td>1871.0</td>\n",
       "      <td>863.0</td>\n",
       "      <td>0.0</td>\n",
       "      <td>609.0</td>\n",
       "      <td>363.0</td>\n",
       "      <td>219.0</td>\n",
       "      <td>2.0</td>\n",
       "      <td>0.0</td>\n",
       "      <td>19393.0</td>\n",
       "      <td>58931.0</td>\n",
       "    </tr>\n",
       "  </tbody>\n",
       "</table>\n",
       "</div>"
      ],
      "text/plain": [
       "  item_id   timestamp   target   ACT01  ACT03  ACT04   ACT07  ACT09  ACT13  \\\n",
       "0    FR13  2019-12-30   7663.0  1267.0  299.0    0.0  2108.0  189.0   84.0   \n",
       "1    FR13  2020-01-06   2917.0  1052.0  490.0    2.0   103.0  255.0  191.0   \n",
       "2    FR13  2020-01-13   2341.0   846.0  115.0    0.0   280.0   69.0   66.0   \n",
       "3    FR13  2020-01-20   3853.0  1350.0  932.0   44.0   568.0  297.0  278.0   \n",
       "4    FR13  2020-01-27  82251.0  1871.0  863.0    0.0   609.0  363.0  219.0   \n",
       "\n",
       "   ACT15  ACT17    ACT32    ACT44  \n",
       "0    0.0    0.0   3716.0      0.0  \n",
       "1    3.0    0.0    821.0      0.0  \n",
       "2  416.0  407.0    142.0      0.0  \n",
       "3   81.0   80.0    223.0      0.0  \n",
       "4    2.0    0.0  19393.0  58931.0  "
      ]
     },
     "execution_count": 3,
     "metadata": {},
     "output_type": "execute_result"
    }
   ],
   "source": [
    "# Load data of closing transaction\n",
    "df = pd.read_csv('../CSV/df_TS_week.csv')\n",
    "df.head()"
   ]
  },
  {
   "cell_type": "code",
   "execution_count": 4,
   "metadata": {},
   "outputs": [],
   "source": [
    "# Create a new df of the item_id equal to IT01 \n",
    "df_IT = df[df['item_id'] == 'IT01']"
   ]
  },
  {
   "cell_type": "code",
   "execution_count": 5,
   "metadata": {},
   "outputs": [],
   "source": [
    "# Drop ACT04 column\n",
    "df_IT = df_IT.drop(columns=['ACT04'])"
   ]
  },
  {
   "cell_type": "code",
   "execution_count": 6,
   "metadata": {},
   "outputs": [
    {
     "name": "stdout",
     "output_type": "stream",
     "text": [
      "0.6976744186046512\n",
      "0.3023255813953488\n"
     ]
    }
   ],
   "source": [
    "# Split data into training and testing set; train set based on timestamp from 2020-01-01 to 2022-04-30 and test set based on timestamp from 2022-05-01 to 2023-04-30\n",
    "train_data = df_IT[df_IT['timestamp'] <= '2022-04-30']\n",
    "test_data = df_IT[df_IT['timestamp'] > '2022-04-30']\n",
    "\n",
    "# Calculate the percentage of the training set and testing set\n",
    "print(train_data.shape[0] / df_IT.shape[0])\n",
    "print(test_data.shape[0] / df_IT.shape[0])"
   ]
  },
  {
   "cell_type": "code",
   "execution_count": 7,
   "metadata": {},
   "outputs": [
    {
     "data": {
      "text/html": [
       "<div>\n",
       "<style scoped>\n",
       "    .dataframe tbody tr th:only-of-type {\n",
       "        vertical-align: middle;\n",
       "    }\n",
       "\n",
       "    .dataframe tbody tr th {\n",
       "        vertical-align: top;\n",
       "    }\n",
       "\n",
       "    .dataframe thead th {\n",
       "        text-align: right;\n",
       "    }\n",
       "</style>\n",
       "<table border=\"1\" class=\"dataframe\">\n",
       "  <thead>\n",
       "    <tr style=\"text-align: right;\">\n",
       "      <th></th>\n",
       "      <th></th>\n",
       "      <th>target</th>\n",
       "      <th>ACT01</th>\n",
       "      <th>ACT03</th>\n",
       "      <th>ACT07</th>\n",
       "      <th>ACT09</th>\n",
       "      <th>ACT13</th>\n",
       "      <th>ACT15</th>\n",
       "      <th>ACT17</th>\n",
       "      <th>ACT32</th>\n",
       "      <th>ACT44</th>\n",
       "    </tr>\n",
       "    <tr>\n",
       "      <th>item_id</th>\n",
       "      <th>timestamp</th>\n",
       "      <th></th>\n",
       "      <th></th>\n",
       "      <th></th>\n",
       "      <th></th>\n",
       "      <th></th>\n",
       "      <th></th>\n",
       "      <th></th>\n",
       "      <th></th>\n",
       "      <th></th>\n",
       "      <th></th>\n",
       "    </tr>\n",
       "  </thead>\n",
       "  <tbody>\n",
       "    <tr>\n",
       "      <th rowspan=\"5\" valign=\"top\">IT01</th>\n",
       "      <th>2019-12-30</th>\n",
       "      <td>7613.0</td>\n",
       "      <td>1228.0</td>\n",
       "      <td>87.0</td>\n",
       "      <td>195.0</td>\n",
       "      <td>188.0</td>\n",
       "      <td>32.0</td>\n",
       "      <td>1817.0</td>\n",
       "      <td>1255.0</td>\n",
       "      <td>2811.0</td>\n",
       "      <td>0.0</td>\n",
       "    </tr>\n",
       "    <tr>\n",
       "      <th>2020-01-06</th>\n",
       "      <td>390.0</td>\n",
       "      <td>87.0</td>\n",
       "      <td>63.0</td>\n",
       "      <td>5.0</td>\n",
       "      <td>8.0</td>\n",
       "      <td>0.0</td>\n",
       "      <td>0.0</td>\n",
       "      <td>0.0</td>\n",
       "      <td>227.0</td>\n",
       "      <td>0.0</td>\n",
       "    </tr>\n",
       "    <tr>\n",
       "      <th>2020-01-13</th>\n",
       "      <td>702.0</td>\n",
       "      <td>161.0</td>\n",
       "      <td>10.0</td>\n",
       "      <td>14.0</td>\n",
       "      <td>0.0</td>\n",
       "      <td>49.0</td>\n",
       "      <td>1.0</td>\n",
       "      <td>0.0</td>\n",
       "      <td>467.0</td>\n",
       "      <td>0.0</td>\n",
       "    </tr>\n",
       "    <tr>\n",
       "      <th>2020-01-20</th>\n",
       "      <td>941.0</td>\n",
       "      <td>437.0</td>\n",
       "      <td>143.0</td>\n",
       "      <td>86.0</td>\n",
       "      <td>67.0</td>\n",
       "      <td>110.0</td>\n",
       "      <td>0.0</td>\n",
       "      <td>0.0</td>\n",
       "      <td>98.0</td>\n",
       "      <td>0.0</td>\n",
       "    </tr>\n",
       "    <tr>\n",
       "      <th>2020-01-27</th>\n",
       "      <td>1470.0</td>\n",
       "      <td>403.0</td>\n",
       "      <td>457.0</td>\n",
       "      <td>178.0</td>\n",
       "      <td>108.0</td>\n",
       "      <td>48.0</td>\n",
       "      <td>7.0</td>\n",
       "      <td>0.0</td>\n",
       "      <td>269.0</td>\n",
       "      <td>0.0</td>\n",
       "    </tr>\n",
       "  </tbody>\n",
       "</table>\n",
       "</div>"
      ],
      "text/plain": [
       "                    target   ACT01  ACT03  ACT07  ACT09  ACT13   ACT15  \\\n",
       "item_id timestamp                                                        \n",
       "IT01    2019-12-30  7613.0  1228.0   87.0  195.0  188.0   32.0  1817.0   \n",
       "        2020-01-06   390.0    87.0   63.0    5.0    8.0    0.0     0.0   \n",
       "        2020-01-13   702.0   161.0   10.0   14.0    0.0   49.0     1.0   \n",
       "        2020-01-20   941.0   437.0  143.0   86.0   67.0  110.0     0.0   \n",
       "        2020-01-27  1470.0   403.0  457.0  178.0  108.0   48.0     7.0   \n",
       "\n",
       "                     ACT17   ACT32  ACT44  \n",
       "item_id timestamp                          \n",
       "IT01    2019-12-30  1255.0  2811.0    0.0  \n",
       "        2020-01-06     0.0   227.0    0.0  \n",
       "        2020-01-13     0.0   467.0    0.0  \n",
       "        2020-01-20     0.0    98.0    0.0  \n",
       "        2020-01-27     0.0   269.0    0.0  "
      ]
     },
     "execution_count": 7,
     "metadata": {},
     "output_type": "execute_result"
    }
   ],
   "source": [
    "# Convert train_data to TimeSeriesDataFrame\n",
    "train_data = TimeSeriesDataFrame(\n",
    "    train_data, \n",
    "    id_column=\"item_id\",\n",
    "    timestamp_column=\"timestamp\"\n",
    "    \n",
    ")\n",
    "\n",
    "train_data.head()"
   ]
  },
  {
   "cell_type": "code",
   "execution_count": 8,
   "metadata": {},
   "outputs": [
    {
     "data": {
      "text/html": [
       "<div>\n",
       "<style scoped>\n",
       "    .dataframe tbody tr th:only-of-type {\n",
       "        vertical-align: middle;\n",
       "    }\n",
       "\n",
       "    .dataframe tbody tr th {\n",
       "        vertical-align: top;\n",
       "    }\n",
       "\n",
       "    .dataframe thead th {\n",
       "        text-align: right;\n",
       "    }\n",
       "</style>\n",
       "<table border=\"1\" class=\"dataframe\">\n",
       "  <thead>\n",
       "    <tr style=\"text-align: right;\">\n",
       "      <th></th>\n",
       "      <th></th>\n",
       "      <th>target</th>\n",
       "      <th>ACT01</th>\n",
       "      <th>ACT03</th>\n",
       "      <th>ACT07</th>\n",
       "      <th>ACT09</th>\n",
       "      <th>ACT13</th>\n",
       "      <th>ACT15</th>\n",
       "      <th>ACT17</th>\n",
       "      <th>ACT32</th>\n",
       "      <th>ACT44</th>\n",
       "    </tr>\n",
       "    <tr>\n",
       "      <th>item_id</th>\n",
       "      <th>timestamp</th>\n",
       "      <th></th>\n",
       "      <th></th>\n",
       "      <th></th>\n",
       "      <th></th>\n",
       "      <th></th>\n",
       "      <th></th>\n",
       "      <th></th>\n",
       "      <th></th>\n",
       "      <th></th>\n",
       "      <th></th>\n",
       "    </tr>\n",
       "  </thead>\n",
       "  <tbody>\n",
       "    <tr>\n",
       "      <th rowspan=\"5\" valign=\"top\">IT01</th>\n",
       "      <th>2022-05-02</th>\n",
       "      <td>4074.0</td>\n",
       "      <td>788.0</td>\n",
       "      <td>29.0</td>\n",
       "      <td>396.0</td>\n",
       "      <td>30.0</td>\n",
       "      <td>111.0</td>\n",
       "      <td>515.0</td>\n",
       "      <td>145.0</td>\n",
       "      <td>2060.0</td>\n",
       "      <td>0.0</td>\n",
       "    </tr>\n",
       "    <tr>\n",
       "      <th>2022-05-09</th>\n",
       "      <td>756.0</td>\n",
       "      <td>137.0</td>\n",
       "      <td>0.0</td>\n",
       "      <td>124.0</td>\n",
       "      <td>0.0</td>\n",
       "      <td>0.0</td>\n",
       "      <td>0.0</td>\n",
       "      <td>0.0</td>\n",
       "      <td>495.0</td>\n",
       "      <td>0.0</td>\n",
       "    </tr>\n",
       "    <tr>\n",
       "      <th>2022-05-16</th>\n",
       "      <td>439.0</td>\n",
       "      <td>153.0</td>\n",
       "      <td>27.0</td>\n",
       "      <td>76.0</td>\n",
       "      <td>2.0</td>\n",
       "      <td>24.0</td>\n",
       "      <td>0.0</td>\n",
       "      <td>0.0</td>\n",
       "      <td>157.0</td>\n",
       "      <td>0.0</td>\n",
       "    </tr>\n",
       "    <tr>\n",
       "      <th>2022-05-23</th>\n",
       "      <td>2078.0</td>\n",
       "      <td>452.0</td>\n",
       "      <td>28.0</td>\n",
       "      <td>387.0</td>\n",
       "      <td>57.0</td>\n",
       "      <td>158.0</td>\n",
       "      <td>506.0</td>\n",
       "      <td>138.0</td>\n",
       "      <td>352.0</td>\n",
       "      <td>0.0</td>\n",
       "    </tr>\n",
       "    <tr>\n",
       "      <th>2022-05-30</th>\n",
       "      <td>3883.0</td>\n",
       "      <td>912.0</td>\n",
       "      <td>198.0</td>\n",
       "      <td>514.0</td>\n",
       "      <td>178.0</td>\n",
       "      <td>261.0</td>\n",
       "      <td>14.0</td>\n",
       "      <td>10.0</td>\n",
       "      <td>1796.0</td>\n",
       "      <td>0.0</td>\n",
       "    </tr>\n",
       "  </tbody>\n",
       "</table>\n",
       "</div>"
      ],
      "text/plain": [
       "                    target  ACT01  ACT03  ACT07  ACT09  ACT13  ACT15  ACT17  \\\n",
       "item_id timestamp                                                             \n",
       "IT01    2022-05-02  4074.0  788.0   29.0  396.0   30.0  111.0  515.0  145.0   \n",
       "        2022-05-09   756.0  137.0    0.0  124.0    0.0    0.0    0.0    0.0   \n",
       "        2022-05-16   439.0  153.0   27.0   76.0    2.0   24.0    0.0    0.0   \n",
       "        2022-05-23  2078.0  452.0   28.0  387.0   57.0  158.0  506.0  138.0   \n",
       "        2022-05-30  3883.0  912.0  198.0  514.0  178.0  261.0   14.0   10.0   \n",
       "\n",
       "                     ACT32  ACT44  \n",
       "item_id timestamp                  \n",
       "IT01    2022-05-02  2060.0    0.0  \n",
       "        2022-05-09   495.0    0.0  \n",
       "        2022-05-16   157.0    0.0  \n",
       "        2022-05-23   352.0    0.0  \n",
       "        2022-05-30  1796.0    0.0  "
      ]
     },
     "execution_count": 8,
     "metadata": {},
     "output_type": "execute_result"
    }
   ],
   "source": [
    "# Convert test_data to TimeSeriesDataFrame\n",
    "test_data = TimeSeriesDataFrame(\n",
    "    test_data, \n",
    "    id_column=\"item_id\",\n",
    "    timestamp_column=\"timestamp\"\n",
    "    \n",
    ")\n",
    "\n",
    "test_data.head()"
   ]
  },
  {
   "cell_type": "code",
   "execution_count": 9,
   "metadata": {},
   "outputs": [
    {
     "name": "stderr",
     "output_type": "stream",
     "text": [
      "data with frequency 'None' has been resampled to frequency 'W-MON'.\n",
      "data contains missing values represented by NaN. They have been filled by carrying forward the last valid observation.\n"
     ]
    },
    {
     "data": {
      "text/html": [
       "<div>\n",
       "<style scoped>\n",
       "    .dataframe tbody tr th:only-of-type {\n",
       "        vertical-align: middle;\n",
       "    }\n",
       "\n",
       "    .dataframe tbody tr th {\n",
       "        vertical-align: top;\n",
       "    }\n",
       "\n",
       "    .dataframe thead th {\n",
       "        text-align: right;\n",
       "    }\n",
       "</style>\n",
       "<table border=\"1\" class=\"dataframe\">\n",
       "  <thead>\n",
       "    <tr style=\"text-align: right;\">\n",
       "      <th></th>\n",
       "      <th></th>\n",
       "      <th>mean</th>\n",
       "      <th>0.1</th>\n",
       "      <th>0.2</th>\n",
       "      <th>0.3</th>\n",
       "      <th>0.4</th>\n",
       "      <th>0.5</th>\n",
       "      <th>0.6</th>\n",
       "      <th>0.7</th>\n",
       "      <th>0.8</th>\n",
       "      <th>0.9</th>\n",
       "    </tr>\n",
       "    <tr>\n",
       "      <th>item_id</th>\n",
       "      <th>timestamp</th>\n",
       "      <th></th>\n",
       "      <th></th>\n",
       "      <th></th>\n",
       "      <th></th>\n",
       "      <th></th>\n",
       "      <th></th>\n",
       "      <th></th>\n",
       "      <th></th>\n",
       "      <th></th>\n",
       "      <th></th>\n",
       "    </tr>\n",
       "  </thead>\n",
       "  <tbody>\n",
       "    <tr>\n",
       "      <th rowspan=\"5\" valign=\"top\">IT01</th>\n",
       "      <th>2022-05-02</th>\n",
       "      <td>4235.514648</td>\n",
       "      <td>3676.129395</td>\n",
       "      <td>3783.424316</td>\n",
       "      <td>3984.289062</td>\n",
       "      <td>4126.722656</td>\n",
       "      <td>4235.514648</td>\n",
       "      <td>4365.253418</td>\n",
       "      <td>4346.654297</td>\n",
       "      <td>4284.443359</td>\n",
       "      <td>4455.062012</td>\n",
       "    </tr>\n",
       "    <tr>\n",
       "      <th>2022-05-09</th>\n",
       "      <td>899.511841</td>\n",
       "      <td>275.822662</td>\n",
       "      <td>363.696228</td>\n",
       "      <td>571.120972</td>\n",
       "      <td>710.128784</td>\n",
       "      <td>899.511841</td>\n",
       "      <td>921.911987</td>\n",
       "      <td>1046.738525</td>\n",
       "      <td>1143.251343</td>\n",
       "      <td>1346.676636</td>\n",
       "    </tr>\n",
       "    <tr>\n",
       "      <th>2022-05-16</th>\n",
       "      <td>596.309570</td>\n",
       "      <td>35.153648</td>\n",
       "      <td>120.090576</td>\n",
       "      <td>286.143982</td>\n",
       "      <td>441.983704</td>\n",
       "      <td>596.309570</td>\n",
       "      <td>604.333252</td>\n",
       "      <td>724.933655</td>\n",
       "      <td>757.348083</td>\n",
       "      <td>942.928467</td>\n",
       "    </tr>\n",
       "    <tr>\n",
       "      <th>2022-05-23</th>\n",
       "      <td>1404.216064</td>\n",
       "      <td>808.879700</td>\n",
       "      <td>975.561523</td>\n",
       "      <td>1116.111816</td>\n",
       "      <td>1284.674072</td>\n",
       "      <td>1404.216064</td>\n",
       "      <td>1385.853271</td>\n",
       "      <td>1520.806641</td>\n",
       "      <td>1531.600220</td>\n",
       "      <td>1732.409180</td>\n",
       "    </tr>\n",
       "    <tr>\n",
       "      <th>2022-05-30</th>\n",
       "      <td>3854.901367</td>\n",
       "      <td>3330.406250</td>\n",
       "      <td>3528.137939</td>\n",
       "      <td>3624.707031</td>\n",
       "      <td>3800.399902</td>\n",
       "      <td>3854.901367</td>\n",
       "      <td>3914.177734</td>\n",
       "      <td>4044.369141</td>\n",
       "      <td>4123.842285</td>\n",
       "      <td>4278.789551</td>\n",
       "    </tr>\n",
       "  </tbody>\n",
       "</table>\n",
       "</div>"
      ],
      "text/plain": [
       "                           mean          0.1          0.2          0.3  \\\n",
       "item_id timestamp                                                        \n",
       "IT01    2022-05-02  4235.514648  3676.129395  3783.424316  3984.289062   \n",
       "        2022-05-09   899.511841   275.822662   363.696228   571.120972   \n",
       "        2022-05-16   596.309570    35.153648   120.090576   286.143982   \n",
       "        2022-05-23  1404.216064   808.879700   975.561523  1116.111816   \n",
       "        2022-05-30  3854.901367  3330.406250  3528.137939  3624.707031   \n",
       "\n",
       "                            0.4          0.5          0.6          0.7  \\\n",
       "item_id timestamp                                                        \n",
       "IT01    2022-05-02  4126.722656  4235.514648  4365.253418  4346.654297   \n",
       "        2022-05-09   710.128784   899.511841   921.911987  1046.738525   \n",
       "        2022-05-16   441.983704   596.309570   604.333252   724.933655   \n",
       "        2022-05-23  1284.674072  1404.216064  1385.853271  1520.806641   \n",
       "        2022-05-30  3800.399902  3854.901367  3914.177734  4044.369141   \n",
       "\n",
       "                            0.8          0.9  \n",
       "item_id timestamp                             \n",
       "IT01    2022-05-02  4284.443359  4455.062012  \n",
       "        2022-05-09  1143.251343  1346.676636  \n",
       "        2022-05-16   757.348083   942.928467  \n",
       "        2022-05-23  1531.600220  1732.409180  \n",
       "        2022-05-30  4123.842285  4278.789551  "
      ]
     },
     "execution_count": 9,
     "metadata": {},
     "output_type": "execute_result"
    }
   ],
   "source": [
    "# Make prediction on training data\n",
    "predictions = predictor.predict(train_data, random_seed=42)\n",
    "predictions.head()"
   ]
  },
  {
   "cell_type": "code",
   "execution_count": 10,
   "metadata": {},
   "outputs": [
    {
     "data": {
      "text/html": [
       "<div>\n",
       "<style scoped>\n",
       "    .dataframe tbody tr th:only-of-type {\n",
       "        vertical-align: middle;\n",
       "    }\n",
       "\n",
       "    .dataframe tbody tr th {\n",
       "        vertical-align: top;\n",
       "    }\n",
       "\n",
       "    .dataframe thead th {\n",
       "        text-align: right;\n",
       "    }\n",
       "</style>\n",
       "<table border=\"1\" class=\"dataframe\">\n",
       "  <thead>\n",
       "    <tr style=\"text-align: right;\">\n",
       "      <th></th>\n",
       "      <th>model</th>\n",
       "      <th>score_test</th>\n",
       "      <th>score_val</th>\n",
       "      <th>pred_time_test</th>\n",
       "      <th>pred_time_val</th>\n",
       "      <th>fit_time_marginal</th>\n",
       "      <th>fit_order</th>\n",
       "    </tr>\n",
       "  </thead>\n",
       "  <tbody>\n",
       "    <tr>\n",
       "      <th>0</th>\n",
       "      <td>TemporalFusionTransformer\\29b78c6b</td>\n",
       "      <td>-0.143218</td>\n",
       "      <td>-0.538773</td>\n",
       "      <td>0.062431</td>\n",
       "      <td>0.022325</td>\n",
       "      <td>18783.216242</td>\n",
       "      <td>4</td>\n",
       "    </tr>\n",
       "    <tr>\n",
       "      <th>1</th>\n",
       "      <td>WeightedEnsemble</td>\n",
       "      <td>-0.155409</td>\n",
       "      <td>-0.499259</td>\n",
       "      <td>0.240689</td>\n",
       "      <td>0.132992</td>\n",
       "      <td>2.523845</td>\n",
       "      <td>5</td>\n",
       "    </tr>\n",
       "    <tr>\n",
       "      <th>2</th>\n",
       "      <td>TemporalFusionTransformer\\761537f1</td>\n",
       "      <td>-0.243509</td>\n",
       "      <td>-0.561396</td>\n",
       "      <td>0.059595</td>\n",
       "      <td>0.043957</td>\n",
       "      <td>7090.265935</td>\n",
       "      <td>3</td>\n",
       "    </tr>\n",
       "    <tr>\n",
       "      <th>3</th>\n",
       "      <td>TemporalFusionTransformer\\9ae2dec6</td>\n",
       "      <td>-0.277100</td>\n",
       "      <td>-0.569448</td>\n",
       "      <td>0.051111</td>\n",
       "      <td>0.035004</td>\n",
       "      <td>1723.242944</td>\n",
       "      <td>1</td>\n",
       "    </tr>\n",
       "    <tr>\n",
       "      <th>4</th>\n",
       "      <td>TemporalFusionTransformer\\eb7eb3c8</td>\n",
       "      <td>-0.377796</td>\n",
       "      <td>-0.564354</td>\n",
       "      <td>0.064551</td>\n",
       "      <td>0.031706</td>\n",
       "      <td>7255.747069</td>\n",
       "      <td>2</td>\n",
       "    </tr>\n",
       "  </tbody>\n",
       "</table>\n",
       "</div>"
      ],
      "text/plain": [
       "                                model  score_test  score_val  pred_time_test  \\\n",
       "0  TemporalFusionTransformer\\29b78c6b   -0.143218  -0.538773        0.062431   \n",
       "1                    WeightedEnsemble   -0.155409  -0.499259        0.240689   \n",
       "2  TemporalFusionTransformer\\761537f1   -0.243509  -0.561396        0.059595   \n",
       "3  TemporalFusionTransformer\\9ae2dec6   -0.277100  -0.569448        0.051111   \n",
       "4  TemporalFusionTransformer\\eb7eb3c8   -0.377796  -0.564354        0.064551   \n",
       "\n",
       "   pred_time_val  fit_time_marginal  fit_order  \n",
       "0       0.022325       18783.216242          4  \n",
       "1       0.132992           2.523845          5  \n",
       "2       0.043957        7090.265935          3  \n",
       "3       0.035004        1723.242944          1  \n",
       "4       0.031706        7255.747069          2  "
      ]
     },
     "execution_count": 10,
     "metadata": {},
     "output_type": "execute_result"
    }
   ],
   "source": [
    "predictor.leaderboard(test_data)"
   ]
  },
  {
   "cell_type": "code",
   "execution_count": 11,
   "metadata": {},
   "outputs": [
    {
     "data": {
      "text/plain": [
       "<matplotlib.legend.Legend at 0x19381270970>"
      ]
     },
     "execution_count": 11,
     "metadata": {},
     "output_type": "execute_result"
    },
    {
     "data": {
      "image/png": "[encoded data removed]",
      "text/plain": [
       "<Figure size 2000x500 with 1 Axes>"
      ]
     },
     "metadata": {},
     "output_type": "display_data"
    }
   ],
   "source": [
    "plt.figure(figsize=(20, 5))\n",
    "plt.title(\"Comparison between values predicted by the model and actual values from test data\")\n",
    "\n",
    "item_id = \"IT01\"\n",
    "y_past = train_data.loc[item_id][\"target\"]\n",
    "y_pred = predictions.loc[item_id]\n",
    "y_test = test_data.loc[item_id][\"target\"][:12]\n",
    "\n",
    "plt.plot(y_past[-4:], label=\"Past time series values\")\n",
    "plt.plot(y_pred[\"mean\"], label=\"Mean forecast\")\n",
    "plt.plot(y_test, label=\"Future time series values\")\n",
    "\n",
    "plt.fill_between(\n",
    "    y_pred.index, y_pred[\"0.1\"], y_pred[\"0.9\"], color=\"red\", alpha=0.1, label=f\"10%-90% confidence interval\"\n",
    ")\n",
    "plt.legend()"
   ]
  },
  {
   "cell_type": "code",
   "execution_count": 12,
   "metadata": {},
   "outputs": [
    {
     "data": {
      "text/plain": [
       "22781.598"
      ]
     },
     "execution_count": 12,
     "metadata": {},
     "output_type": "execute_result"
    }
   ],
   "source": [
    "# Sum all value of mean forecast of predictions where item_id is IT01\n",
    "predictions.loc['IT01']['mean'].sum()"
   ]
  },
  {
   "cell_type": "code",
   "execution_count": 13,
   "metadata": {},
   "outputs": [
    {
     "data": {
      "text/plain": [
       "21311.0"
      ]
     },
     "execution_count": 13,
     "metadata": {},
     "output_type": "execute_result"
    }
   ],
   "source": [
    "# Sum all value of target of test_data \n",
    "test_data.loc['IT01']['target'][:12].sum()"
   ]
  },
  {
   "cell_type": "code",
   "execution_count": 14,
   "metadata": {},
   "outputs": [
    {
     "data": {
      "text/plain": [
       "timestamp\n",
       "2022-05-02    4074.0\n",
       "2022-05-09     756.0\n",
       "2022-05-16     439.0\n",
       "2022-05-23    2078.0\n",
       "2022-05-30    3883.0\n",
       "2022-06-06    1630.0\n",
       "2022-06-13     585.0\n",
       "2022-06-20    1681.0\n",
       "2022-06-27    1956.0\n",
       "2022-07-04    2687.0\n",
       "2022-07-11     263.0\n",
       "2022-07-18    1279.0\n",
       "Name: target, dtype: float64"
      ]
     },
     "execution_count": 14,
     "metadata": {},
     "output_type": "execute_result"
    }
   ],
   "source": [
    "# Print first 12 rows of test_data\n",
    "test_data.loc['IT01']['target'][:12]"
   ]
  },
  {
   "cell_type": "code",
   "execution_count": 15,
   "metadata": {},
   "outputs": [
    {
     "data": {
      "text/plain": [
       "timestamp\n",
       "2022-05-02     161.514648\n",
       "2022-05-09     143.511841\n",
       "2022-05-16     157.309570\n",
       "2022-05-23    -673.783936\n",
       "2022-05-30     -28.098633\n",
       "2022-06-06    -255.072754\n",
       "2022-06-13     409.982849\n",
       "2022-06-20    -512.313232\n",
       "2022-06-27    2527.728516\n",
       "2022-07-04   -1101.494141\n",
       "2022-07-11     838.718140\n",
       "2022-07-18    -197.404053\n",
       "dtype: float64"
      ]
     },
     "execution_count": 15,
     "metadata": {},
     "output_type": "execute_result"
    }
   ],
   "source": [
    "# Calculate difference betweend each prediction and actual value of test_data\n",
    "diff = predictions.loc['IT01']['mean'] - test_data.loc['IT01']['target'][:12]\n",
    "diff"
   ]
  },
  {
   "cell_type": "code",
   "execution_count": 16,
   "metadata": {},
   "outputs": [
    {
     "data": {
      "text/plain": [
       "['TemporalFusionTransformer\\\\9ae2dec6',\n",
       " 'TemporalFusionTransformer\\\\eb7eb3c8',\n",
       " 'TemporalFusionTransformer\\\\761537f1',\n",
       " 'TemporalFusionTransformer\\\\29b78c6b',\n",
       " 'WeightedEnsemble']"
      ]
     },
     "execution_count": 16,
     "metadata": {},
     "output_type": "execute_result"
    }
   ],
   "source": [
    "# Show model names\n",
    "predictor.model_names()"
   ]
  },
  {
   "cell_type": "code",
   "execution_count": 17,
   "metadata": {},
   "outputs": [
    {
     "data": {
      "text/plain": [
       "{'hidden_dim': 32,\n",
       " 'variable_dim': 128,\n",
       " 'num_heads': 8,\n",
       " 'dropout_rate': 0.17973684761326877,\n",
       " 'max_epochs': 150,\n",
       " 'batch_size': 64,\n",
       " 'lr': 0.0001}"
      ]
     },
     "execution_count": 17,
     "metadata": {},
     "output_type": "execute_result"
    }
   ],
   "source": [
    "# Show parameters of the model\n",
    "model = predictor._trainer.load_model(\"TemporalFusionTransformer\\\\eb7eb3c8\")  # provide the model name here\n",
    "model.get_user_params()"
   ]
  },
  {
   "cell_type": "code",
   "execution_count": 18,
   "metadata": {},
   "outputs": [
    {
     "data": {
      "text/plain": [
       "{'hidden_dim': 32,\n",
       " 'variable_dim': 32,\n",
       " 'num_heads': 2,\n",
       " 'dropout_rate': 0.1,\n",
       " 'max_epochs': 100,\n",
       " 'batch_size': 64,\n",
       " 'lr': 0.01}"
      ]
     },
     "execution_count": 18,
     "metadata": {},
     "output_type": "execute_result"
    }
   ],
   "source": [
    "# Show parameters of the model\n",
    "model = predictor._trainer.load_model(\"TemporalFusionTransformer\\\\9ae2dec6\")  # provide the model name here\n",
    "model.get_user_params()"
   ]
  },
  {
   "cell_type": "code",
   "execution_count": 19,
   "metadata": {},
   "outputs": [
    {
     "data": {
      "text/plain": [
       "{'hidden_dim': 128,\n",
       " 'variable_dim': 32,\n",
       " 'num_heads': 4,\n",
       " 'dropout_rate': 0.3964687732560638,\n",
       " 'max_epochs': 150,\n",
       " 'batch_size': 128,\n",
       " 'lr': 0.0001}"
      ]
     },
     "execution_count": 19,
     "metadata": {},
     "output_type": "execute_result"
    }
   ],
   "source": [
    "# Show parameters of the model\n",
    "model = predictor._trainer.load_model(\"TemporalFusionTransformer\\\\761537f1\")  # provide the model name here\n",
    "model.get_user_params()"
   ]
  },
  {
   "cell_type": "code",
   "execution_count": 20,
   "metadata": {},
   "outputs": [
    {
     "data": {
      "text/plain": [
       "{'hidden_dim': 32,\n",
       " 'variable_dim': 128,\n",
       " 'num_heads': 4,\n",
       " 'dropout_rate': 0.6831324655873079,\n",
       " 'max_epochs': 200,\n",
       " 'batch_size': 256,\n",
       " 'lr': 0.01}"
      ]
     },
     "execution_count": 20,
     "metadata": {},
     "output_type": "execute_result"
    }
   ],
   "source": [
    "# Show parameters of the model\n",
    "model = predictor._trainer.load_model(\"TemporalFusionTransformer\\\\29b78c6b\")  # provide the model name here\n",
    "model.get_user_params()"
   ]
  }
 ],
 "metadata": {
  "kernelspec": {
   "display_name": "LAB1",
   "language": "python",
   "name": "python3"
  },
  "language_info": {
   "codemirror_mode": {
    "name": "ipython",
    "version": 3
   },
   "file_extension": ".py",
   "mimetype": "text/x-python",
   "name": "python",
   "nbconvert_exporter": "python",
   "pygments_lexer": "ipython3",
   "version": "3.9.7"
  }
 },
 "nbformat": 4,
 "nbformat_minor": 2
}
