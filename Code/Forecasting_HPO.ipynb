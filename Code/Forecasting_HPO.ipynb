{
 "cells": [
  {
   "cell_type": "markdown",
   "metadata": {},
   "source": [
    "# Hyperparameter Optimization Of TemporalFusionTransformer"
   ]
  },
  {
   "cell_type": "code",
   "execution_count": null,
   "metadata": {},
   "outputs": [],
   "source": [
    "import matplotlib.pyplot as plt\n",
    "import pandas as pd\n",
    "from autogluon.timeseries import TimeSeriesPredictor, TimeSeriesDataFrame\n",
    "import numpy as np"
   ]
  },
  {
   "cell_type": "code",
   "execution_count": null,
   "metadata": {},
   "outputs": [],
   "source": [
    "# Load data of closing transaction\n",
    "df = pd.read_csv('../CSV/df_TS_week.csv')\n",
    "df.head()"
   ]
  },
  {
   "cell_type": "code",
   "execution_count": null,
   "metadata": {},
   "outputs": [],
   "source": [
    "df[\"log_target\"] = np.log(df.target + 1e-8)\n",
    "df.head()"
   ]
  },
  {
   "cell_type": "code",
   "execution_count": null,
   "metadata": {},
   "outputs": [],
   "source": [
    "# Drop row where item_id is IT01\n",
    "df = df[df['item_id'] != 'IT01']"
   ]
  },
  {
   "cell_type": "code",
   "execution_count": null,
   "metadata": {},
   "outputs": [],
   "source": [
    "prediction_length = 12  # Length of the prediction\n",
    "\n",
    "# Convert the 'timestamp' column to datetime format if it's not already in that format\n",
    "df['timestamp'] = pd.to_datetime(df['timestamp'])\n",
    "\n",
    "# Find the maximum date in the dataset\n",
    "max_date = df['timestamp'].max()\n",
    "\n",
    "# Calculate the start date of the test set\n",
    "test_start_date = max_date - pd.DateOffset(weeks=prediction_length+1)\n",
    "\n",
    "# Split the dataset into training and test sets\n",
    "train_data = df[df['timestamp'] <= test_start_date]\n",
    "test_data = df[df['timestamp'] > test_start_date]\n",
    "\n",
    "# Print the percentage dimensions of the training and test sets\n",
    "print(train_data.shape[0] / df.shape[0])\n",
    "print(test_data.shape[0] / df.shape[0])\n"
   ]
  },
  {
   "cell_type": "code",
   "execution_count": null,
   "metadata": {},
   "outputs": [],
   "source": [
    "# Convert train_data to TimeSeriesDataFrame\n",
    "train_data = TimeSeriesDataFrame(\n",
    "    train_data, \n",
    "    id_column=\"item_id\",\n",
    "    timestamp_column=\"timestamp\"\n",
    "    \n",
    ")\n",
    "\n",
    "train_data.head()"
   ]
  },
  {
   "cell_type": "code",
   "execution_count": null,
   "metadata": {},
   "outputs": [],
   "source": [
    "# Convert test_data to TimeSeriesDataFrame\n",
    "test_data = TimeSeriesDataFrame(\n",
    "    test_data, \n",
    "    id_column=\"item_id\",\n",
    "    timestamp_column=\"timestamp\"\n",
    "    \n",
    ")\n",
    "\n",
    "test_data.head()"
   ]
  },
  {
   "cell_type": "code",
   "execution_count": null,
   "metadata": {},
   "outputs": [],
   "source": [
    "# Build predictor\n",
    "predictor = TimeSeriesPredictor(\n",
    "    prediction_length=12,\n",
    "    freq='W-MON',\n",
    "    target='target',\n",
    "    path='C:\\\\Develop\\\\HPO\\\\ALL_company_HPO',\n",
    "    eval_metric='MASE'\n",
    ")"
   ]
  },
  {
   "cell_type": "code",
   "execution_count": null,
   "metadata": {},
   "outputs": [],
   "source": [
    "from autogluon.common import space\n",
    "\n",
    "predictor.fit(\n",
    "    train_data,\n",
    "    hyperparameters = {\n",
    "        \"TemporalFusionTransformer\": { \n",
    "           \"hidden_dim\": space.Categorical(32, 64, 128),  \n",
    "           \"variable_dim\": space.Categorical(32, 64, 128),\n",
    "           \"num_heads\": space.Categorical(1,2,4),\n",
    "           \"dropout_rate\": space.Real(0.1, 0.3),\n",
    "           \"max_epochs\": space.Categorical(50,100, 150),\n",
    "           \"batch_size\": space.Categorical(64, 128, 156),\n",
    "           \"lr\": space.Categorical(0.1, 0.01, 0.001),\n",
    "           \"early_stopping_patience\" : 10\n",
    "        },\n",
    "    },\n",
    "    hyperparameter_tune_kwargs=\"auto\",\n",
    "    refit_full=True,\n",
    "    num_val_windows=3,\n",
    "    random_seed=42,\n",
    "    enable_ensemble = False\n",
    ")"
   ]
  },
  {
   "cell_type": "code",
   "execution_count": null,
   "metadata": {},
   "outputs": [],
   "source": [
    "# Make prediction on training data\n",
    "predictions = predictor.predict(train_data, random_seed=42)\n",
    "predictions.head()"
   ]
  },
  {
   "cell_type": "code",
   "execution_count": null,
   "metadata": {},
   "outputs": [],
   "source": [
    "predictor.leaderboard(test_data)"
   ]
  },
  {
   "cell_type": "code",
   "execution_count": null,
   "metadata": {},
   "outputs": [],
   "source": [
    "plt.figure(figsize=(20, 5))\n",
    "plt.title(\"Comparison between values predicted by the model and actual values from test data (IT01)\", pad=20, fontsize=15)\n",
    "\n",
    "item_id = \"FR13\"\n",
    "y_past = train_data.loc[item_id][\"target\"]\n",
    "y_pred = predictions.loc[item_id]\n",
    "y_test = test_data.loc[item_id][\"target\"][:12]\n",
    "\n",
    "# Get the dates for each observation\n",
    "all_dates = list(y_past.index[-8:]) + list(y_test.index)\n",
    "all_ticks = range(len(all_dates))\n",
    "\n",
    "# Set the x-axis range for past and future\n",
    "past_ticks = range(8)\n",
    "future_ticks = range(8, len(all_dates))\n",
    "\n",
    "plt.plot(past_ticks, y_past[-8:], label=\"Past time series values\", marker='o', linestyle='-')\n",
    "plt.plot(future_ticks, y_pred[\"mean\"], label=\"Mean forecast\", marker='o', linestyle='-')\n",
    "plt.plot(future_ticks, y_test, label=\"Future time series values\", marker='o', linestyle='-')\n",
    "\n",
    "# Set the x-axis range for fill_between\n",
    "fill_ticks = range(8, len(y_pred.index) + 8)\n",
    "\n",
    "#plt.fill_between(\n",
    "#    fill_ticks, y_pred[\"0.1\"], y_pred[\"0.9\"], color=\"red\", alpha=0.1, label=f\"10%-90% confidence interval\"\n",
    "#)\n",
    "\n",
    "# Set x-axis labels with dates without time\n",
    "date_labels = [date.strftime(\"%Y-%m-%d\") for date in all_dates]\n",
    "plt.xticks(all_ticks, date_labels, rotation=45)\n",
    "\n",
    "# Add label for x-axis and y-axis\n",
    "plt.xlabel(\"Date\", fontsize=15, labelpad=15)\n",
    "plt.ylabel(\"Number of transactions\", fontsize=15, labelpad=15)\n",
    "\n",
    "plt.legend()\n",
    "plt.show()"
   ]
  },
  {
   "cell_type": "code",
   "execution_count": null,
   "metadata": {},
   "outputs": [],
   "source": [
    "# Print all row of predictions where item_id is IT01\n",
    "predictions.loc['IT01']"
   ]
  },
  {
   "cell_type": "code",
   "execution_count": null,
   "metadata": {},
   "outputs": [],
   "source": [
    "# Sum all value of mean forecast of predictions where item_id is IT01\n",
    "predictions.loc['IT01']['mean'].sum()"
   ]
  },
  {
   "cell_type": "code",
   "execution_count": null,
   "metadata": {},
   "outputs": [],
   "source": [
    "# Sum all value of target of test_data \n",
    "test_data.loc['IT01']['target'][:12].sum()"
   ]
  },
  {
   "cell_type": "code",
   "execution_count": null,
   "metadata": {},
   "outputs": [],
   "source": [
    "# Calculate difference betweend each prediction and actual value of test_data\n",
    "diff = predictions.loc['IT01']['mean'] - test_data.loc['IT01']['target'][:12]\n",
    "diff"
   ]
  },
  {
   "cell_type": "code",
   "execution_count": null,
   "metadata": {},
   "outputs": [],
   "source": [
    "# Show model names\n",
    "predictor.model_names()"
   ]
  },
  {
   "cell_type": "code",
   "execution_count": null,
   "metadata": {},
   "outputs": [],
   "source": [
    "# Show parameters of the model\n",
    "model = predictor._trainer.load_model(\"TemporalFusionTransformer\\\\05c5e857\")  # provide the model name here\n",
    "model.get_user_params()"
   ]
  },
  {
   "cell_type": "code",
   "execution_count": null,
   "metadata": {},
   "outputs": [],
   "source": [
    "# Show parameters of the model\n",
    "model = predictor._trainer.load_model(\"TemporalFusionTransformer\\\\69bdc396\")  # provide the model name here\n",
    "model.get_user_params()"
   ]
  },
  {
   "cell_type": "code",
   "execution_count": null,
   "metadata": {},
   "outputs": [],
   "source": [
    "# Show parameters of the model\n",
    "model = predictor._trainer.load_model(\"TemporalFusionTransformer\\\\735a71a3\")  # provide the model name here\n",
    "model.get_user_params()"
   ]
  },
  {
   "cell_type": "code",
   "execution_count": null,
   "metadata": {},
   "outputs": [],
   "source": [
    "# Show parameters of the model\n",
    "model = predictor._trainer.load_model(\"TemporalFusionTransformer\\\\c3fe6316\")  # provide the model name here\n",
    "model.get_user_params()"
   ]
  }
 ],
 "metadata": {
  "kernelspec": {
   "display_name": "LAB1",
   "language": "python",
   "name": "python3"
  },
  "language_info": {
   "codemirror_mode": {
    "name": "ipython",
    "version": 3
   },
   "file_extension": ".py",
   "mimetype": "text/x-python",
   "name": "python",
   "nbconvert_exporter": "python",
   "pygments_lexer": "ipython3",
   "version": "3.9.7"
  }
 },
 "nbformat": 4,
 "nbformat_minor": 2
}
