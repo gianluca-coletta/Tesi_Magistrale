{
 "cells": [
  {
   "cell_type": "code",
   "execution_count": 2,
   "metadata": {},
   "outputs": [],
   "source": [
    "import pandas as pd"
   ]
  },
  {
   "cell_type": "code",
   "execution_count": 3,
   "metadata": {},
   "outputs": [],
   "source": [
    "# Load data of IT closing transaction\n",
    "df = pd.read_csv('../CSV/ClosingTransaction.csv', sep=';', low_memory=False)\n",
    "\n",
    "# Add name of column to dataframe \n",
    "df.columns = ['GjaeRecId', 'AccountingDate', 'CreatedDateTime', 'LedgerDimension', 'GroupChartOfAccountsValue', 'GroupChartOfAccountsName', 'Ledger', 'PostingLayer', 'SubledgerVoucher', 'SubledgerVoucherDataAreaId', 'CreatedBy', 'JournalCategory', 'PostingTypeLabel', 'PostingTypeValue', 'MainAccount', 'Text', 'JournalType', 'JournalTypeLabel', 'NumOfLines', 'CountLedgerJournal', 'TransactionCurrencyAmount', 'TransactionCurrencyCode', 'ClosingActivityDescription', 'ClosingActivityId']\n"
   ]
  },
  {
   "cell_type": "code",
   "execution_count": 4,
   "metadata": {},
   "outputs": [],
   "source": [
    "# Convert the 'CreatedDateTime' column to the correct format\n",
    "df['CreatedDateTime'] = pd.to_datetime(df['CreatedDateTime'], format='%Y-%m-%d %H:%M:%S.%f')\n",
    "\n",
    "# Convert the 'AccountingDate' column to the correct format\n",
    "df['AccountingDate'] = pd.to_datetime(df['AccountingDate'], format='%Y-%m-%d %H:%M:%S.%f')"
   ]
  },
  {
   "cell_type": "code",
   "execution_count": 5,
   "metadata": {},
   "outputs": [
    {
     "data": {
      "text/html": [
       "<div>\n",
       "<style scoped>\n",
       "    .dataframe tbody tr th:only-of-type {\n",
       "        vertical-align: middle;\n",
       "    }\n",
       "\n",
       "    .dataframe tbody tr th {\n",
       "        vertical-align: top;\n",
       "    }\n",
       "\n",
       "    .dataframe thead th {\n",
       "        text-align: right;\n",
       "    }\n",
       "</style>\n",
       "<table border=\"1\" class=\"dataframe\">\n",
       "  <thead>\n",
       "    <tr style=\"text-align: right;\">\n",
       "      <th></th>\n",
       "      <th>GjaeRecId</th>\n",
       "      <th>AccountingDate</th>\n",
       "      <th>CreatedDateTime</th>\n",
       "      <th>LedgerDimension</th>\n",
       "      <th>GroupChartOfAccountsValue</th>\n",
       "      <th>GroupChartOfAccountsName</th>\n",
       "      <th>Ledger</th>\n",
       "      <th>PostingLayer</th>\n",
       "      <th>SubledgerVoucher</th>\n",
       "      <th>SubledgerVoucherDataAreaId</th>\n",
       "      <th>CreatedBy</th>\n",
       "      <th>JournalCategory</th>\n",
       "      <th>PostingTypeLabel</th>\n",
       "      <th>PostingTypeValue</th>\n",
       "      <th>MainAccount</th>\n",
       "      <th>Text</th>\n",
       "      <th>JournalType</th>\n",
       "      <th>JournalTypeLabel</th>\n",
       "      <th>NumOfLines</th>\n",
       "      <th>CountLedgerJournal</th>\n",
       "      <th>TransactionCurrencyAmount</th>\n",
       "      <th>TransactionCurrencyCode</th>\n",
       "      <th>ClosingActivityDescription</th>\n",
       "      <th>ClosingActivityId</th>\n",
       "    </tr>\n",
       "  </thead>\n",
       "  <tbody>\n",
       "    <tr>\n",
       "      <th>0</th>\n",
       "      <td>5657242189</td>\n",
       "      <td>2019-12-31</td>\n",
       "      <td>2020-01-01 16:15:26</td>\n",
       "      <td>5637176302</td>\n",
       "      <td>A10450</td>\n",
       "      <td>Receivable - Other (No Contracts)</td>\n",
       "      <td>5637145326</td>\n",
       "      <td>0</td>\n",
       "      <td>4000029332</td>\n",
       "      <td>IT01</td>\n",
       "      <td>annamaria.massara</td>\n",
       "      <td>General journal</td>\n",
       "      <td>CustBalance</td>\n",
       "      <td>31</td>\n",
       "      <td>5637145446</td>\n",
       "      <td>ROSELLINA PANEBIANCO-2001132-2019-TRATTENUTA C...</td>\n",
       "      <td>0.0</td>\n",
       "      <td>Daily</td>\n",
       "      <td>89.0</td>\n",
       "      <td>1.0</td>\n",
       "      <td>-50.0</td>\n",
       "      <td>EUR</td>\n",
       "      <td>Post and settle all received payments</td>\n",
       "      <td>ACT09</td>\n",
       "    </tr>\n",
       "    <tr>\n",
       "      <th>1</th>\n",
       "      <td>5657242195</td>\n",
       "      <td>2019-12-31</td>\n",
       "      <td>2020-01-01 16:15:26</td>\n",
       "      <td>5637176302</td>\n",
       "      <td>A10450</td>\n",
       "      <td>Receivable - Other (No Contracts)</td>\n",
       "      <td>5637145326</td>\n",
       "      <td>0</td>\n",
       "      <td>4000029335</td>\n",
       "      <td>IT01</td>\n",
       "      <td>annamaria.massara</td>\n",
       "      <td>General journal</td>\n",
       "      <td>CustBalance</td>\n",
       "      <td>31</td>\n",
       "      <td>5637145446</td>\n",
       "      <td>MARCO LAMANNA-2001135-2019-TRATTENUTA CEDOLINO</td>\n",
       "      <td>0.0</td>\n",
       "      <td>Daily</td>\n",
       "      <td>89.0</td>\n",
       "      <td>1.0</td>\n",
       "      <td>-50.0</td>\n",
       "      <td>EUR</td>\n",
       "      <td>Post and settle all received payments</td>\n",
       "      <td>ACT09</td>\n",
       "    </tr>\n",
       "    <tr>\n",
       "      <th>2</th>\n",
       "      <td>5657242196</td>\n",
       "      <td>2019-12-31</td>\n",
       "      <td>2020-01-01 16:15:26</td>\n",
       "      <td>5637175227</td>\n",
       "      <td>L20205</td>\n",
       "      <td>Salary Payable</td>\n",
       "      <td>5637145326</td>\n",
       "      <td>0</td>\n",
       "      <td>4000029335</td>\n",
       "      <td>IT01</td>\n",
       "      <td>annamaria.massara</td>\n",
       "      <td>General journal</td>\n",
       "      <td>LedgerJournal</td>\n",
       "      <td>14</td>\n",
       "      <td>5637145466</td>\n",
       "      <td>MARCO LAMANNA-2001135-2019-TRATTENUTA CEDOLINO</td>\n",
       "      <td>0.0</td>\n",
       "      <td>Daily</td>\n",
       "      <td>89.0</td>\n",
       "      <td>1.0</td>\n",
       "      <td>50.0</td>\n",
       "      <td>EUR</td>\n",
       "      <td>Post all adjustments in ledger</td>\n",
       "      <td>ACT32</td>\n",
       "    </tr>\n",
       "    <tr>\n",
       "      <th>3</th>\n",
       "      <td>5657242199</td>\n",
       "      <td>2019-12-31</td>\n",
       "      <td>2020-01-01 16:15:26</td>\n",
       "      <td>5637176302</td>\n",
       "      <td>A10450</td>\n",
       "      <td>Receivable - Other (No Contracts)</td>\n",
       "      <td>5637145326</td>\n",
       "      <td>0</td>\n",
       "      <td>4000029337</td>\n",
       "      <td>IT01</td>\n",
       "      <td>annamaria.massara</td>\n",
       "      <td>General journal</td>\n",
       "      <td>CustBalance</td>\n",
       "      <td>31</td>\n",
       "      <td>5637145446</td>\n",
       "      <td>RECCARDO SIMONA-2001137-2019-TRATTENUTA CEDOLINO</td>\n",
       "      <td>0.0</td>\n",
       "      <td>Daily</td>\n",
       "      <td>89.0</td>\n",
       "      <td>1.0</td>\n",
       "      <td>-50.0</td>\n",
       "      <td>EUR</td>\n",
       "      <td>Post and settle all received payments</td>\n",
       "      <td>ACT09</td>\n",
       "    </tr>\n",
       "    <tr>\n",
       "      <th>4</th>\n",
       "      <td>5657242198</td>\n",
       "      <td>2019-12-31</td>\n",
       "      <td>2020-01-01 16:15:26</td>\n",
       "      <td>5637175227</td>\n",
       "      <td>L20205</td>\n",
       "      <td>Salary Payable</td>\n",
       "      <td>5637145326</td>\n",
       "      <td>0</td>\n",
       "      <td>4000029336</td>\n",
       "      <td>IT01</td>\n",
       "      <td>annamaria.massara</td>\n",
       "      <td>General journal</td>\n",
       "      <td>LedgerJournal</td>\n",
       "      <td>14</td>\n",
       "      <td>5637145466</td>\n",
       "      <td>CORALLO DANIELE-2001136-2019-TRATTENUTA CEDOLINO</td>\n",
       "      <td>0.0</td>\n",
       "      <td>Daily</td>\n",
       "      <td>89.0</td>\n",
       "      <td>1.0</td>\n",
       "      <td>50.0</td>\n",
       "      <td>EUR</td>\n",
       "      <td>Post all adjustments in ledger</td>\n",
       "      <td>ACT32</td>\n",
       "    </tr>\n",
       "  </tbody>\n",
       "</table>\n",
       "</div>"
      ],
      "text/plain": [
       "    GjaeRecId AccountingDate     CreatedDateTime  LedgerDimension  \\\n",
       "0  5657242189     2019-12-31 2020-01-01 16:15:26       5637176302   \n",
       "1  5657242195     2019-12-31 2020-01-01 16:15:26       5637176302   \n",
       "2  5657242196     2019-12-31 2020-01-01 16:15:26       5637175227   \n",
       "3  5657242199     2019-12-31 2020-01-01 16:15:26       5637176302   \n",
       "4  5657242198     2019-12-31 2020-01-01 16:15:26       5637175227   \n",
       "\n",
       "  GroupChartOfAccountsValue           GroupChartOfAccountsName      Ledger  \\\n",
       "0                    A10450  Receivable - Other (No Contracts)  5637145326   \n",
       "1                    A10450  Receivable - Other (No Contracts)  5637145326   \n",
       "2                    L20205                     Salary Payable  5637145326   \n",
       "3                    A10450  Receivable - Other (No Contracts)  5637145326   \n",
       "4                    L20205                     Salary Payable  5637145326   \n",
       "\n",
       "   PostingLayer SubledgerVoucher SubledgerVoucherDataAreaId  \\\n",
       "0             0       4000029332                       IT01   \n",
       "1             0       4000029335                       IT01   \n",
       "2             0       4000029335                       IT01   \n",
       "3             0       4000029337                       IT01   \n",
       "4             0       4000029336                       IT01   \n",
       "\n",
       "           CreatedBy  JournalCategory PostingTypeLabel  PostingTypeValue  \\\n",
       "0  annamaria.massara  General journal      CustBalance                31   \n",
       "1  annamaria.massara  General journal      CustBalance                31   \n",
       "2  annamaria.massara  General journal    LedgerJournal                14   \n",
       "3  annamaria.massara  General journal      CustBalance                31   \n",
       "4  annamaria.massara  General journal    LedgerJournal                14   \n",
       "\n",
       "   MainAccount                                               Text  \\\n",
       "0   5637145446  ROSELLINA PANEBIANCO-2001132-2019-TRATTENUTA C...   \n",
       "1   5637145446     MARCO LAMANNA-2001135-2019-TRATTENUTA CEDOLINO   \n",
       "2   5637145466     MARCO LAMANNA-2001135-2019-TRATTENUTA CEDOLINO   \n",
       "3   5637145446   RECCARDO SIMONA-2001137-2019-TRATTENUTA CEDOLINO   \n",
       "4   5637145466   CORALLO DANIELE-2001136-2019-TRATTENUTA CEDOLINO   \n",
       "\n",
       "   JournalType JournalTypeLabel  NumOfLines  CountLedgerJournal  \\\n",
       "0          0.0            Daily        89.0                 1.0   \n",
       "1          0.0            Daily        89.0                 1.0   \n",
       "2          0.0            Daily        89.0                 1.0   \n",
       "3          0.0            Daily        89.0                 1.0   \n",
       "4          0.0            Daily        89.0                 1.0   \n",
       "\n",
       "   TransactionCurrencyAmount TransactionCurrencyCode  \\\n",
       "0                      -50.0                     EUR   \n",
       "1                      -50.0                     EUR   \n",
       "2                       50.0                     EUR   \n",
       "3                      -50.0                     EUR   \n",
       "4                       50.0                     EUR   \n",
       "\n",
       "              ClosingActivityDescription ClosingActivityId  \n",
       "0  Post and settle all received payments             ACT09  \n",
       "1  Post and settle all received payments             ACT09  \n",
       "2         Post all adjustments in ledger             ACT32  \n",
       "3  Post and settle all received payments             ACT09  \n",
       "4         Post all adjustments in ledger             ACT32  "
      ]
     },
     "execution_count": 5,
     "metadata": {},
     "output_type": "execute_result"
    }
   ],
   "source": [
    "# Show the first 5 rows of the dataframe\n",
    "pd.set_option('display.max_columns', None)\n",
    "df.head()"
   ]
  },
  {
   "cell_type": "code",
   "execution_count": 6,
   "metadata": {},
   "outputs": [
    {
     "data": {
      "text/plain": [
       "(10288510, 24)"
      ]
     },
     "execution_count": 6,
     "metadata": {},
     "output_type": "execute_result"
    }
   ],
   "source": [
    "# Dimension of dataframe\n",
    "df.shape\n"
   ]
  },
  {
   "cell_type": "code",
   "execution_count": 7,
   "metadata": {},
   "outputs": [
    {
     "data": {
      "text/plain": [
       "GjaeRecId                              int64\n",
       "AccountingDate                datetime64[ns]\n",
       "CreatedDateTime               datetime64[ns]\n",
       "LedgerDimension                        int64\n",
       "GroupChartOfAccountsValue             object\n",
       "GroupChartOfAccountsName              object\n",
       "Ledger                                 int64\n",
       "PostingLayer                           int64\n",
       "SubledgerVoucher                      object\n",
       "SubledgerVoucherDataAreaId            object\n",
       "CreatedBy                             object\n",
       "JournalCategory                       object\n",
       "PostingTypeLabel                      object\n",
       "PostingTypeValue                       int64\n",
       "MainAccount                            int64\n",
       "Text                                  object\n",
       "JournalType                          float64\n",
       "JournalTypeLabel                      object\n",
       "NumOfLines                           float64\n",
       "CountLedgerJournal                   float64\n",
       "TransactionCurrencyAmount            float64\n",
       "TransactionCurrencyCode               object\n",
       "ClosingActivityDescription            object\n",
       "ClosingActivityId                     object\n",
       "dtype: object"
      ]
     },
     "execution_count": 7,
     "metadata": {},
     "output_type": "execute_result"
    }
   ],
   "source": [
    "# Type of data in dataframe\n",
    "df.dtypes"
   ]
  },
  {
   "cell_type": "code",
   "execution_count": 8,
   "metadata": {},
   "outputs": [],
   "source": [
    "# Change SubledgerVoucherDataAreaId field from lower case to upper case\n",
    "df['SubledgerVoucherDataAreaId'] = df['SubledgerVoucherDataAreaId'].str.upper()"
   ]
  },
  {
   "cell_type": "code",
   "execution_count": 9,
   "metadata": {},
   "outputs": [
    {
     "data": {
      "text/plain": [
       "SubledgerVoucherDataAreaId\n",
       "PL01    3055112\n",
       "GB03    2894118\n",
       "FR13    2808100\n",
       "RO01    1092979\n",
       "IT01     438201\n",
       "Name: count, dtype: int64"
      ]
     },
     "execution_count": 9,
     "metadata": {},
     "output_type": "execute_result"
    }
   ],
   "source": [
    "# Count number of transactions per subledgervoucherdataareaid\n",
    "df['SubledgerVoucherDataAreaId'].value_counts()"
   ]
  },
  {
   "cell_type": "code",
   "execution_count": 10,
   "metadata": {},
   "outputs": [
    {
     "data": {
      "image/png": "[encoded data removed]",
      "text/plain": [
       "<Figure size 1400x600 with 1 Axes>"
      ]
     },
     "metadata": {},
     "output_type": "display_data"
    }
   ],
   "source": [
    "import matplotlib.pyplot as plt\n",
    "import seaborn as sns\n",
    "\n",
    "# Set seaborn style\n",
    "sns.set_style('dark')\n",
    "\n",
    "# Extract unique area names\n",
    "area_names = df['SubledgerVoucherDataAreaId'].unique()\n",
    "\n",
    "# Extract transaction counts for each area\n",
    "area_counts = [df[df['SubledgerVoucherDataAreaId'] == area]['SubledgerVoucherDataAreaId'].count() for area in area_names]\n",
    "\n",
    "# Plot histogram with seaborn style\n",
    "plt.figure(figsize=(14, 6))\n",
    "plt.bar(area_names, area_counts, color='darkblue', edgecolor='black', alpha=0.7, width=0.5)\n",
    "plt.xlabel('Company Area ID', fontsize=12)\n",
    "plt.ylabel('Number of Transactions', fontsize=12)\n",
    "plt.title('Number of transactions for each Company Area', fontsize=15)\n",
    "plt.xticks(ha='center', fontsize=10)\n",
    "plt.yticks(fontsize=10)\n",
    "plt.grid(axis='y', alpha=0.7)\n",
    "\n",
    "# Add exact number of transactions on each bar\n",
    "for i, count in enumerate(area_counts):\n",
    "    plt.text(i, count, str(count), ha='center', va='bottom', fontsize=10)\n",
    "\n",
    "# Show the plot\n",
    "plt.show()\n"
   ]
  },
  {
   "cell_type": "code",
   "execution_count": 11,
   "metadata": {},
   "outputs": [
    {
     "data": {
      "text/plain": [
       "CreatedBy\n",
       "angelika.kucharzyk     2052716\n",
       "laetitia.rodrigues     1277366\n",
       "rana.yacoub             680843\n",
       "colin.may               654923\n",
       "dorota.pagowska         514631\n",
       "                        ...   \n",
       "stephanie.quiviger           8\n",
       "turgay.kayaer1               6\n",
       "manoharan.shanmugam          3\n",
       "sylwia.stefaniuk             2\n",
       "marco.aloia                  2\n",
       "Name: count, Length: 135, dtype: int64"
      ]
     },
     "execution_count": 11,
     "metadata": {},
     "output_type": "execute_result"
    }
   ],
   "source": [
    "# Count number of transactions per CreatedBy\n",
    "df['CreatedBy'].value_counts()"
   ]
  },
  {
   "cell_type": "code",
   "execution_count": 12,
   "metadata": {},
   "outputs": [
    {
     "data": {
      "text/plain": [
       "ClosingActivityId\n",
       "ACT32    3038549\n",
       "ACT15    2651224\n",
       "ACT17    2423596\n",
       "ACT01     617335\n",
       "ACT44     456976\n",
       "ACT03     448650\n",
       "ACT07     298824\n",
       "ACT13     127621\n",
       "ACT09     102012\n",
       "ACT04      96528\n",
       "ACT34      24426\n",
       "ACT29       1968\n",
       "ACT16        801\n",
       "Name: count, dtype: int64"
      ]
     },
     "execution_count": 12,
     "metadata": {},
     "output_type": "execute_result"
    }
   ],
   "source": [
    "# Count number of transactions per ClosingActivityId\n",
    "df['ClosingActivityId'].value_counts()"
   ]
  },
  {
   "cell_type": "code",
   "execution_count": null,
   "metadata": {},
   "outputs": [],
   "source": []
  }
 ],
 "metadata": {
  "kernelspec": {
   "display_name": "Develop",
   "language": "python",
   "name": "python3"
  },
  "language_info": {
   "codemirror_mode": {
    "name": "ipython",
    "version": 3
   },
   "file_extension": ".py",
   "mimetype": "text/x-python",
   "name": "python",
   "nbconvert_exporter": "python",
   "pygments_lexer": "ipython3",
   "version": "3.9.12"
  }
 },
 "nbformat": 4,
 "nbformat_minor": 2
}
