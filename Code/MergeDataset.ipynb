{
 "cells": [
  {
   "cell_type": "code",
   "execution_count": 22,
   "metadata": {},
   "outputs": [
    {
     "name": "stdout",
     "output_type": "stream",
     "text": [
      "(64000, 16)\n",
      "    GjaeRecId  LedgerDimension GroupChartOfAccountsValue      Ledger   \n",
      "0  5637567490       5637173888                    A10420  5637145326  \\\n",
      "1  5727921563       5645293726                  E41040IC  5637145326   \n",
      "2  5640093926       5637830841                  E41040IC  5637145326   \n",
      "3  5639190402       5637175101                    L20200  5637145326   \n",
      "4  5718937840       5644324475                    L20200  5637145326   \n",
      "\n",
      "   PostingLayer SubledgerVoucher             CreatedBy  MainAccount   \n",
      "0             0     1100728-2018  giovanna.santostefan   5637145546  \\\n",
      "1             0     1102019-2022     annamaria.massara   5637145765   \n",
      "2             0     1102042-2018  giovanna.santostefan   5637145765   \n",
      "3             0     1101447-2018  giovanna.santostefan   5637145525   \n",
      "4             0     1101297-2022  giovanna.santostefan   5637145525   \n",
      "\n",
      "                                                Text  JournalType   \n",
      "0               TERRATURISMO - ospitalità AMEX 02/18         10.0  \\\n",
      "1  LEASEPLAN - CANONI SERVIZI AUTO GALLO  GF247CD...         10.0   \n",
      "2  LEASEPLAN - Canoni Leasing Auto VILLA EX822AD ...         10.0   \n",
      "3                        MANPOWER - interinali 05/18         10.0   \n",
      "4                            OSCAR - TAXI 05-06/2022         10.0   \n",
      "\n",
      "           JournalTypeLabel  NumOfLines  CountLedgerJournal   \n",
      "0  Vendor invoice recording         0.0                 4.0  \\\n",
      "1  Vendor invoice recording        27.0                27.0   \n",
      "2  Vendor invoice recording        16.0                16.0   \n",
      "3  Vendor invoice recording         3.0                 3.0   \n",
      "4  Vendor invoice recording        13.0                13.0   \n",
      "\n",
      "  TransactionCurrencyAmount TransactionCurrencyCode Activity  \n",
      "0                  93220000                     EUR    ACT01  \n",
      "1                 374550000                     EUR    ACT01  \n",
      "2                  33430000                     EUR    ACT01  \n",
      "3                 -16180000                     EUR    ACT01  \n",
      "4               -1914000000                     EUR    ACT01  \n"
     ]
    }
   ],
   "source": [
    "# I want to merge eight csv into one csv \n",
    "\n",
    "import pandas as pd\n",
    "\n",
    "df1 = pd.read_csv('../CSV/ACT01_IT.csv', sep=';')\n",
    "df2 = pd.read_csv('../CSV/ACT03_IT.csv', sep=';')\n",
    "df3 = pd.read_csv('../CSV/ACT07_IT.csv', sep=';')\n",
    "df4 = pd.read_csv('../CSV/ACT09_IT.csv', sep=';')\n",
    "df5 = pd.read_csv('../CSV/ACT13_IT.csv', sep=';')\n",
    "df6 = pd.read_csv('../CSV/ACT15_IT.csv', sep=';')\n",
    "df7 = pd.read_csv('../CSV/ACT17_IT.csv', sep=';')\n",
    "df8 = pd.read_csv('../CSV/ACT32_IT.csv', sep=';')\n",
    "\n",
    "df = pd.concat([df1, df2, df3, df4, df5, df6, df7, df8], ignore_index=True)\n",
    "df.to_csv('../CSV/train_set_it01.csv', index=False)\n",
    "\n",
    "print(df.shape)\n",
    "print(df.head())\n"
   ]
  }
 ],
 "metadata": {
  "kernelspec": {
   "display_name": "Python 3",
   "language": "python",
   "name": "python3"
  },
  "language_info": {
   "codemirror_mode": {
    "name": "ipython",
    "version": 3
   },
   "file_extension": ".py",
   "mimetype": "text/x-python",
   "name": "python",
   "nbconvert_exporter": "python",
   "pygments_lexer": "ipython3",
   "version": "3.11.0"
  }
 },
 "nbformat": 4,
 "nbformat_minor": 2
}
